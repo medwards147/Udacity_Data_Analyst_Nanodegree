{
 "cells": [
  {
   "cell_type": "markdown",
   "metadata": {},
   "source": [
    "# Enron Fraud POI Identifier\n",
    "Udacity Intro to Machine Learning - Data Analyst Nanodegree Project 5\n",
    "\n",
    "Author: Max Edwards\n",
    "\n",
    "Date: January 12, 2015"
   ]
  },
  {
   "cell_type": "markdown",
   "metadata": {},
   "source": [
    "## Enron Dataset Exploration"
   ]
  },
  {
   "cell_type": "code",
   "execution_count": 134,
   "metadata": {
    "collapsed": true
   },
   "outputs": [],
   "source": [
    "import pickle\n",
    "import pprint\n",
    "enron_data = pickle.load(open(\"../final_project/final_project_dataset.pkl\", \"r\"))"
   ]
  },
  {
   "cell_type": "markdown",
   "metadata": {},
   "source": [
    "The code chunk above loads the data"
   ]
  },
  {
   "cell_type": "code",
   "execution_count": 135,
   "metadata": {
    "collapsed": false
   },
   "outputs": [
    {
     "name": "stdout",
     "output_type": "stream",
     "text": [
      "The number of people in the dataset 146\n"
     ]
    }
   ],
   "source": [
    "print(\"The number of people in the dataset {:.0f}\".format(len(enron_data.keys())))"
   ]
  },
  {
   "cell_type": "code",
   "execution_count": 136,
   "metadata": {
    "collapsed": false
   },
   "outputs": [
    {
     "name": "stdout",
     "output_type": "stream",
     "text": [
      "The number of data fields for each person are 21\n"
     ]
    }
   ],
   "source": [
    "print(\"The number of data fields for each person are {:.0f}\".format(len(enron_data['METTS MARK'])))"
   ]
  },
  {
   "cell_type": "code",
   "execution_count": 137,
   "metadata": {
    "collapsed": false
   },
   "outputs": [
    {
     "name": "stdout",
     "output_type": "stream",
     "text": [
      "The keys in the data set are: ['salary', 'to_messages', 'deferral_payments', 'total_payments', 'exercised_stock_options', 'bonus', 'restricted_stock', 'shared_receipt_with_poi', 'restricted_stock_deferred', 'total_stock_value', 'expenses', 'loan_advances', 'from_messages', 'other', 'from_this_person_to_poi', 'poi', 'director_fees', 'deferred_income', 'long_term_incentive', 'email_address', 'from_poi_to_this_person']\n"
     ]
    }
   ],
   "source": [
    "print(\"The keys in the data set are: {}\".format(enron_data['METTS MARK'].keys()))"
   ]
  },
  {
   "cell_type": "code",
   "execution_count": 138,
   "metadata": {
    "collapsed": false
   },
   "outputs": [
    {
     "name": "stdout",
     "output_type": "stream",
     "text": [
      "The number of pois (positive labels) is 18\n"
     ]
    }
   ],
   "source": [
    "count = 0\n",
    "for person in enron_data.keys():\n",
    "    if enron_data[person][\"poi\"] == 1:\n",
    "        count += 1\n",
    "    else:\n",
    "        continue\n",
    "print(\"The number of pois (positive labels) is {}\".format(count))"
   ]
  },
  {
   "cell_type": "code",
   "execution_count": 139,
   "metadata": {
    "collapsed": false
   },
   "outputs": [
    {
     "name": "stdout",
     "output_type": "stream",
     "text": [
      "The amount of people with a known salary are 95\n",
      "The amount of people with an unknown salary are 51\n",
      "\n",
      "The amount of people with a known email are 111\n",
      "The amount of people with an unknown email are 35\n"
     ]
    }
   ],
   "source": [
    "# Check Salary\n",
    "count_non_nans = 0\n",
    "count_nans = 0\n",
    "for key in enron_data.keys():\n",
    "    if enron_data[key]['salary'] != 'NaN':\n",
    "        count_non_nans += 1\n",
    "    else:\n",
    "        count_nans += 1\n",
    "print(\"The amount of people with a known salary are {}\".format(count_non_nans))\n",
    "print(\"The amount of people with an unknown salary are {}\".format(count_nans))\n",
    "\n",
    "# Check emails\n",
    "count_non_nans = 0\n",
    "count_nans = 0\n",
    "for key in enron_data.keys():\n",
    "    if enron_data[key]['email_address'] != 'NaN':\n",
    "        count_non_nans += 1\n",
    "    else:\n",
    "        count_nans += 1\n",
    "print(\"\")\n",
    "print(\"The amount of people with a known email are {}\".format(count_non_nans))\n",
    "print(\"The amount of people with an unknown email are {}\".format(count_nans))"
   ]
  },
  {
   "cell_type": "code",
   "execution_count": 140,
   "metadata": {
    "collapsed": false
   },
   "outputs": [
    {
     "name": "stdout",
     "output_type": "stream",
     "text": [
      "The amount of people with a value for total payments are 125\n",
      "The amount of people with a **NaN** value for total payments are 21\n",
      "Percentage 0.14\n"
     ]
    }
   ],
   "source": [
    "# Percentage of people who have \"NaN\" as their total payments\n",
    "count_non_nans = 0\n",
    "count_nans = 0\n",
    "for key in enron_data.keys():\n",
    "    if enron_data[key]['total_payments'] != 'NaN':\n",
    "        count_non_nans += 1\n",
    "    else:\n",
    "        count_nans += 1\n",
    "print(\"The amount of people with a value for total payments are {}\".format(count_non_nans))\n",
    "print(\"The amount of people with a **NaN** value for total payments are {}\".format(count_nans))\n",
    "print(\"Percentage {:.2f}\".format(float(count_nans)/(float(count_non_nans) + float(count_nans))))"
   ]
  },
  {
   "cell_type": "code",
   "execution_count": 141,
   "metadata": {
    "collapsed": false
   },
   "outputs": [
    {
     "name": "stdout",
     "output_type": "stream",
     "text": [
      "The amount of POIs with a value for total payments are 18\n",
      "The amount of POIs with a **NaN** value for total payments are 0\n",
      "Percentage 0.00\n"
     ]
    }
   ],
   "source": [
    "# Percentage of POIs who have \"NaN\" as their total payments\n",
    "count_non_nans = 0\n",
    "count_nans = 0\n",
    "for key in enron_data.keys():\n",
    "    if enron_data[key]['poi'] == 1:\n",
    "        if enron_data[key]['total_payments'] != 'NaN':\n",
    "            count_non_nans += 1\n",
    "        else:\n",
    "            count_nans += 1\n",
    "    else:\n",
    "        continue\n",
    "print(\"The amount of POIs with a value for total payments are {}\".format(count_non_nans))\n",
    "print(\"The amount of POIs with a **NaN** value for total payments are {}\".format(count_nans))\n",
    "print(\"Percentage {:.2f}\".format(float(count_nans)/(float(count_non_nans) + float(count_nans))))"
   ]
  },
  {
   "cell_type": "markdown",
   "metadata": {},
   "source": [
    "The two code chunks identify that all POIs have a `totalpayments` value. Therefore, if I tried to collect additional POIs without having a `totalpaynments` value for them, it would be counterproductive."
   ]
  },
  {
   "cell_type": "code",
   "execution_count": 142,
   "metadata": {
    "collapsed": false
   },
   "outputs": [
    {
     "name": "stdout",
     "output_type": "stream",
     "text": [
      "name: LAY KENNETH L\n",
      "salary: 1072321\n",
      "bonus:  7000000\n",
      "name: SKILLING JEFFREY K\n",
      "salary: 1111258\n",
      "bonus:  5600000\n",
      "name: TOTAL\n",
      "salary: 26704229\n",
      "bonus:  97343619\n",
      "name: FREVERT MARK A\n",
      "salary: 1060932\n",
      "bonus:  2000000\n"
     ]
    }
   ],
   "source": [
    "# Outlier salary / bonus\n",
    "for key in enron_data.keys():\n",
    "    if enron_data[key]['salary'] > 1000000 and enron_data[key]['salary'] != 'NaN':\n",
    "        print \"name: \" + key\n",
    "        print \"salary:\", enron_data[key]['salary']\n",
    "        print \"bonus: \", enron_data[key]['bonus']"
   ]
  },
  {
   "cell_type": "markdown",
   "metadata": {},
   "source": [
    "Prior using the data to build predicitive models, it's prudent to check for outliers. The above output identifies several individuals with very large salaries. It turns out there is a key for \"TOTAL\". This will need to be removed."
   ]
  },
  {
   "cell_type": "code",
   "execution_count": 143,
   "metadata": {
    "collapsed": false
   },
   "outputs": [
    {
     "name": "stdout",
     "output_type": "stream",
     "text": [
      "[('HAEDICKE MARK E', 2),\n",
      " ('LAY KENNETH L', 2),\n",
      " ('ALLEN PHILLIP K', 2),\n",
      " ('FREVERT MARK A', 2),\n",
      " ('PIPER GREGORY F', 3),\n",
      " ('DERRICK JR. JAMES V', 3),\n",
      " ('HANNON KEVIN P', 4),\n",
      " ('MULLER MARK S', 4),\n",
      " ('RIEKER PAULA H', 4),\n",
      " ('OLSON CINDY K', 4),\n",
      " ('BELDEN TIMOTHY N', 4),\n",
      " ('RICE KENNETH D', 4),\n",
      " ('WASAFF GEORGE', 4),\n",
      " ('SHARP VICTORIA T', 4),\n",
      " ('BUY RICHARD B', 4),\n",
      " ('MCMAHON JEFFREY', 5),\n",
      " ('BLACHMAN JEREMY M', 5),\n",
      " ('COLWELL WESLEY', 5),\n",
      " ('WALLS JR ROBERT H', 5),\n",
      " ('SHANKMAN JEFFREY A', 5),\n",
      " ('BERGSIEKER RICHARD P', 5),\n",
      " ('BIBI PHILIPPE A', 5),\n",
      " ('LAVORATO JOHN J', 5),\n",
      " ('BANNANTINE JAMES M', 5),\n",
      " ('SHELBY REX', 5),\n",
      " ('DEFFNER JOSEPH M', 5),\n",
      " ('WHALLEY LAWRENCE G', 5),\n",
      " ('MCCONNELL MICHAEL S', 5),\n",
      " ('DELAINEY DAVID W', 5),\n",
      " ('FALLON JAMES B', 5),\n",
      " ('BOWEN JR RAYMOND M', 5),\n",
      " ('FITZGERALD JAY L', 5),\n",
      " ('DURAN WILLIAM D', 5),\n",
      " ('THORN TERENCE H', 5),\n",
      " ('CALGER CHRISTOPHER F', 5),\n",
      " ('KAMINSKI WINCENTY J', 5),\n",
      " ('COX DAVID', 5),\n",
      " ('SKILLING JEFFREY K', 5),\n",
      " ('KEAN STEVEN J', 5),\n",
      " ('MCCLELLAN GEORGE', 5),\n",
      " ('BUCHANAN HAROLD G', 5),\n",
      " ('MURRAY JULIA H', 5),\n",
      " ('GARLAND C KEVIN', 5),\n",
      " ('DIETRICH JANET R', 5),\n",
      " ('KOENIG MARK E', 5),\n",
      " ('TILNEY ELIZABETH A', 5),\n",
      " ('CAUSEY RICHARD A', 5),\n",
      " ('DONAHUE JR JEFFREY M', 5),\n",
      " ('GLISAN JR BEN F', 5),\n",
      " ('JACKSON CHARLENE R', 6),\n",
      " ('KITCHEN LOUISE', 6),\n",
      " ('HICKERSON GARY J', 6),\n",
      " ('SHAPIRO RICHARD S', 6),\n",
      " ('SHERRIFF JOHN R', 6),\n",
      " ('TOTAL', 6),\n",
      " ('CARTER REBECCA C', 6),\n",
      " ('IZZO LAWRENCE L', 6),\n",
      " ('MARTIN AMANDA K', 6),\n",
      " ('SUNDE MARTIN', 7),\n",
      " ('BECK SALLY W', 7),\n",
      " ('LEFF DANIEL P', 7),\n",
      " ('DETMERING TIMOTHY J', 7),\n",
      " ('PICKERING MARK R', 7),\n",
      " ('TAYLOR MITCHELL S', 7),\n",
      " ('HUMPHREY GENE E', 8),\n",
      " ('REDMOND BRIAN L', 8),\n",
      " ('REYNOLDS LAWRENCE', 8),\n",
      " ('BHATNAGAR SANJAY', 8),\n",
      " ('BAXTER JOHN C', 9),\n",
      " ('MEYER ROCKFORD G', 9),\n",
      " ('GIBBS DANA R', 9),\n",
      " ('LINDHOLM TOD A', 9),\n",
      " ('HERMANN ROBERT J', 9),\n",
      " ('HORTON STANLEY C', 9),\n",
      " ('DODSON KEITH', 9),\n",
      " ('BAY FRANKLIN R', 9),\n",
      " ('ELLIOTT STEVEN', 10),\n",
      " ('HAUG DAVID L', 10),\n",
      " ('ECHOLS JOHN B', 10),\n",
      " ('HAYES ROBERT E', 10),\n",
      " ('BUTTS ROBERT H', 10),\n",
      " ('GAHN ROBERT S', 10),\n",
      " ('DIMICHELE RICHARD G', 10),\n",
      " ('FASTOW ANDREW S', 10),\n",
      " ('FOY JOE', 10),\n",
      " ('UMANOFF ADAM S', 10),\n",
      " ('CORDES WILLIAM R', 11),\n",
      " ('WESTFAHL RICHARD K', 11),\n",
      " ('KOPPER MICHAEL J', 11),\n",
      " ('GOLD JOSEPH', 11),\n",
      " ('MCDONALD REBECCA', 11),\n",
      " ('MORAN MICHAEL P', 11),\n",
      " ('OVERDYKE JR JERE C', 11),\n",
      " ('SHERRICK JEFFREY B', 11),\n",
      " ('FOWLER PEGGY', 11),\n",
      " ('WHITE JR THOMAS E', 11),\n",
      " ('HUGHES JAMES A', 11),\n",
      " ('PAI LOU L', 11),\n",
      " ('MCCARTY DANNY J', 11),\n",
      " ('MORDAUNT KRISTINA M', 12),\n",
      " ('LEWIS RICHARD', 12),\n",
      " ('POWERS WILLIAM', 12),\n",
      " ('KISHKILL JOSEPH G', 12),\n",
      " ('PIRO JIM', 12),\n",
      " ('SULLIVAN-SHAKLOVITZ COLLEEN', 12),\n",
      " ('CUMBERLAND MICHAEL S', 12),\n",
      " ('STABLER FRANK', 12),\n",
      " ('BROWN MICHAEL', 12),\n",
      " ('YEAGER F SCOTT', 12),\n",
      " ('HAYSLETT RODERICK J', 12),\n",
      " ('BERBERIAN DAVID', 13),\n",
      " ('BAZELIDES PHILIP J', 13),\n",
      " ('JAEDICKE ROBERT', 13),\n",
      " ('HIRKO JOSEPH', 13),\n",
      " ('BELFER ROBERT', 14),\n",
      " ('PRENTICE JAMES', 14),\n",
      " ('NOLES JAMES L', 15),\n",
      " ('WALTERS GARETH W', 15),\n",
      " ('DUNCAN JOHN H', 15),\n",
      " ('LEMAISTRE CHARLES', 15),\n",
      " ('BADUM JAMES P', 15),\n",
      " ('GRAY RODNEY', 15),\n",
      " ('LOWRY CHARLES P', 16),\n",
      " ('CHAN RONNIE', 16),\n",
      " ('URQUHART JOHN A', 16),\n",
      " ('MENDELSOHN JOHN', 16),\n",
      " ('MEYER JEROME J', 16),\n",
      " ('GATHMANN WILLIAM D', 16),\n",
      " ('PEREIRA PAULO V. FERRAZ', 16),\n",
      " ('BLAKE JR. NORMAN P', 16),\n",
      " ('CHRISTODOULOU DIOMEDES', 16),\n",
      " ('WINOKUR JR. HERBERT S', 16),\n",
      " ('YEAP SOON', 16),\n",
      " ('FUGH JOHN L', 16),\n",
      " ('WODRASKA JOHN', 17),\n",
      " ('CLINE KENNETH W', 17),\n",
      " ('WAKEHAM JOHN', 17),\n",
      " ('GILLIS JOHN', 17),\n",
      " ('SCRIMSHAW MATTHEW', 17),\n",
      " ('SAVAGE FRANK', 17),\n",
      " ('WHALEY DAVID A', 18),\n",
      " ('WROBEL BRUCE', 18),\n",
      " ('THE TRAVEL AGENCY IN THE PARK', 18),\n",
      " ('GRAMM WENDY L', 18),\n",
      " ('LOCKHART EUGENE E', 20),\n",
      " ('METTS MARK', 25)]\n"
     ]
    }
   ],
   "source": [
    "import operator\n",
    "#count 'Nan' per key to see who is missing al ot of data\n",
    "#found 'THE TRAVEL AGENCY IN THE PARK with 18 NaNs\n",
    "count_dict = {}\n",
    "for name in enron_data.keys():\n",
    "    for value in enron_data[name].values():\n",
    "        if value == 'NaN':\n",
    "            count += 1\n",
    "    count_dict[name] = count\n",
    "    count = 0\n",
    "sorted_dict = sorted(count_dict.items(), key=operator.itemgetter(1))\n",
    "pprint.pprint(sorted_dict)"
   ]
  },
  {
   "cell_type": "markdown",
   "metadata": {},
   "source": [
    "`LOCKHART EUGENE E` has all 'NaN' values. Also, `THE TRAVEL AGENCY IN THE PARK` is not a person. Therefore I will remove these from the dataset prior to modeling."
   ]
  },
  {
   "cell_type": "markdown",
   "metadata": {},
   "source": [
    "## Data Cleaning/Preparation"
   ]
  },
  {
   "cell_type": "code",
   "execution_count": 144,
   "metadata": {
    "collapsed": false,
    "scrolled": true
   },
   "outputs": [],
   "source": [
    "### Clean dataset. Remove outliers Function and other cleaning\n",
    "def cleanEnron(d):\n",
    "    \"\"\"\n",
    "    Remove outliers from Enron dataset and other unwated data\n",
    "    \"\"\"\n",
    "    ## Delete unwated keys\n",
    "    del d['TOTAL']\n",
    "    del d['THE TRAVEL AGENCY IN THE PARK']\n",
    "    del d['LOCKHART EUGENE E']\n",
    "    \n",
    "    return d\n",
    "data = cleanEnron(enron_data)"
   ]
  },
  {
   "cell_type": "markdown",
   "metadata": {},
   "source": [
    "These keys removed were identified to be removed from the dataset during data exploration."
   ]
  },
  {
   "cell_type": "code",
   "execution_count": 145,
   "metadata": {
    "collapsed": true
   },
   "outputs": [],
   "source": [
    "# Create additional features\n",
    "for name in data.keys():\n",
    "    # uses computeFraction function from poi_clean.py    \n",
    "    from_to_poi_ratio = computeFraction(data[name]['from_this_person_to_poi'], data[name]['from_messages'] )\n",
    "    data[name]['from_to_poi_ratio'] = from_to_poi_ratio "
   ]
  },
  {
   "cell_type": "code",
   "execution_count": 146,
   "metadata": {
    "collapsed": false
   },
   "outputs": [
    {
     "data": {
      "text/plain": [
       "{'to_messages': 807, 'deferral_payments': 'NaN', 'expenses': 94299, 'poi': False, 'deferred_income': 'NaN', 'email_address': 'mark.metts@enron.com', 'long_term_incentive': 'NaN', 'from_to_poi_ratio': 0.034482758620689655, 'restricted_stock_deferred': 'NaN', 'shared_receipt_with_poi': 702, 'loan_advances': 'NaN', 'from_messages': 29, 'other': 1740, 'director_fees': 'NaN', 'bonus': 600000, 'total_stock_value': 585062, 'from_poi_to_this_person': 38, 'from_this_person_to_poi': 1, 'restricted_stock': 585062, 'salary': 365788, 'total_payments': 1061827, 'exercised_stock_options': 'NaN'}"
      ]
     },
     "execution_count": 146,
     "metadata": {},
     "output_type": "execute_result"
    }
   ],
   "source": [
    "# Confirm from_to_poi_ratio added - choose METTS MARK but could of been anyone to view all values\n",
    "data['METTS MARK']"
   ]
  },
  {
   "cell_type": "code",
   "execution_count": 147,
   "metadata": {
    "collapsed": false
   },
   "outputs": [],
   "source": [
    "from pandas import DataFrame as pd\n",
    "\n",
    "df = pd.from_dict(data, orient='index')"
   ]
  },
  {
   "cell_type": "code",
   "execution_count": 148,
   "metadata": {
    "collapsed": false
   },
   "outputs": [
    {
     "data": {
      "text/html": [
       "<div>\n",
       "<table border=\"1\" class=\"dataframe\">\n",
       "  <thead>\n",
       "    <tr style=\"text-align: right;\">\n",
       "      <th></th>\n",
       "      <th>to_messages</th>\n",
       "      <th>deferral_payments</th>\n",
       "      <th>expenses</th>\n",
       "      <th>poi</th>\n",
       "      <th>deferred_income</th>\n",
       "      <th>email_address</th>\n",
       "      <th>long_term_incentive</th>\n",
       "      <th>from_to_poi_ratio</th>\n",
       "      <th>restricted_stock_deferred</th>\n",
       "      <th>shared_receipt_with_poi</th>\n",
       "      <th>...</th>\n",
       "      <th>other</th>\n",
       "      <th>director_fees</th>\n",
       "      <th>bonus</th>\n",
       "      <th>total_stock_value</th>\n",
       "      <th>from_poi_to_this_person</th>\n",
       "      <th>from_this_person_to_poi</th>\n",
       "      <th>restricted_stock</th>\n",
       "      <th>salary</th>\n",
       "      <th>total_payments</th>\n",
       "      <th>exercised_stock_options</th>\n",
       "    </tr>\n",
       "  </thead>\n",
       "  <tbody>\n",
       "    <tr>\n",
       "      <th>ALLEN PHILLIP K</th>\n",
       "      <td>2902</td>\n",
       "      <td>2869717</td>\n",
       "      <td>13868</td>\n",
       "      <td>False</td>\n",
       "      <td>-3081055</td>\n",
       "      <td>phillip.allen@enron.com</td>\n",
       "      <td>304805</td>\n",
       "      <td>0.029613</td>\n",
       "      <td>-126027</td>\n",
       "      <td>1407</td>\n",
       "      <td>...</td>\n",
       "      <td>152</td>\n",
       "      <td>NaN</td>\n",
       "      <td>4175000</td>\n",
       "      <td>1729541</td>\n",
       "      <td>47</td>\n",
       "      <td>65</td>\n",
       "      <td>126027</td>\n",
       "      <td>201955</td>\n",
       "      <td>4484442</td>\n",
       "      <td>1729541</td>\n",
       "    </tr>\n",
       "    <tr>\n",
       "      <th>BADUM JAMES P</th>\n",
       "      <td>NaN</td>\n",
       "      <td>178980</td>\n",
       "      <td>3486</td>\n",
       "      <td>False</td>\n",
       "      <td>NaN</td>\n",
       "      <td>NaN</td>\n",
       "      <td>NaN</td>\n",
       "      <td>0.000000</td>\n",
       "      <td>NaN</td>\n",
       "      <td>NaN</td>\n",
       "      <td>...</td>\n",
       "      <td>NaN</td>\n",
       "      <td>NaN</td>\n",
       "      <td>NaN</td>\n",
       "      <td>257817</td>\n",
       "      <td>NaN</td>\n",
       "      <td>NaN</td>\n",
       "      <td>NaN</td>\n",
       "      <td>NaN</td>\n",
       "      <td>182466</td>\n",
       "      <td>257817</td>\n",
       "    </tr>\n",
       "    <tr>\n",
       "      <th>BANNANTINE JAMES M</th>\n",
       "      <td>566</td>\n",
       "      <td>NaN</td>\n",
       "      <td>56301</td>\n",
       "      <td>False</td>\n",
       "      <td>-5104</td>\n",
       "      <td>james.bannantine@enron.com</td>\n",
       "      <td>NaN</td>\n",
       "      <td>0.000000</td>\n",
       "      <td>-560222</td>\n",
       "      <td>465</td>\n",
       "      <td>...</td>\n",
       "      <td>864523</td>\n",
       "      <td>NaN</td>\n",
       "      <td>NaN</td>\n",
       "      <td>5243487</td>\n",
       "      <td>39</td>\n",
       "      <td>0</td>\n",
       "      <td>1757552</td>\n",
       "      <td>477</td>\n",
       "      <td>916197</td>\n",
       "      <td>4046157</td>\n",
       "    </tr>\n",
       "    <tr>\n",
       "      <th>BAXTER JOHN C</th>\n",
       "      <td>NaN</td>\n",
       "      <td>1295738</td>\n",
       "      <td>11200</td>\n",
       "      <td>False</td>\n",
       "      <td>-1386055</td>\n",
       "      <td>NaN</td>\n",
       "      <td>1586055</td>\n",
       "      <td>0.000000</td>\n",
       "      <td>NaN</td>\n",
       "      <td>NaN</td>\n",
       "      <td>...</td>\n",
       "      <td>2660303</td>\n",
       "      <td>NaN</td>\n",
       "      <td>1200000</td>\n",
       "      <td>10623258</td>\n",
       "      <td>NaN</td>\n",
       "      <td>NaN</td>\n",
       "      <td>3942714</td>\n",
       "      <td>267102</td>\n",
       "      <td>5634343</td>\n",
       "      <td>6680544</td>\n",
       "    </tr>\n",
       "    <tr>\n",
       "      <th>BAY FRANKLIN R</th>\n",
       "      <td>NaN</td>\n",
       "      <td>260455</td>\n",
       "      <td>129142</td>\n",
       "      <td>False</td>\n",
       "      <td>-201641</td>\n",
       "      <td>frank.bay@enron.com</td>\n",
       "      <td>NaN</td>\n",
       "      <td>0.000000</td>\n",
       "      <td>-82782</td>\n",
       "      <td>NaN</td>\n",
       "      <td>...</td>\n",
       "      <td>69</td>\n",
       "      <td>NaN</td>\n",
       "      <td>400000</td>\n",
       "      <td>63014</td>\n",
       "      <td>NaN</td>\n",
       "      <td>NaN</td>\n",
       "      <td>145796</td>\n",
       "      <td>239671</td>\n",
       "      <td>827696</td>\n",
       "      <td>NaN</td>\n",
       "    </tr>\n",
       "  </tbody>\n",
       "</table>\n",
       "<p>5 rows × 22 columns</p>\n",
       "</div>"
      ],
      "text/plain": [
       "                   to_messages deferral_payments expenses    poi  \\\n",
       "ALLEN PHILLIP K           2902           2869717    13868  False   \n",
       "BADUM JAMES P              NaN            178980     3486  False   \n",
       "BANNANTINE JAMES M         566               NaN    56301  False   \n",
       "BAXTER JOHN C              NaN           1295738    11200  False   \n",
       "BAY FRANKLIN R             NaN            260455   129142  False   \n",
       "\n",
       "                   deferred_income               email_address  \\\n",
       "ALLEN PHILLIP K           -3081055     phillip.allen@enron.com   \n",
       "BADUM JAMES P                  NaN                         NaN   \n",
       "BANNANTINE JAMES M           -5104  james.bannantine@enron.com   \n",
       "BAXTER JOHN C             -1386055                         NaN   \n",
       "BAY FRANKLIN R             -201641         frank.bay@enron.com   \n",
       "\n",
       "                   long_term_incentive  from_to_poi_ratio  \\\n",
       "ALLEN PHILLIP K                 304805           0.029613   \n",
       "BADUM JAMES P                      NaN           0.000000   \n",
       "BANNANTINE JAMES M                 NaN           0.000000   \n",
       "BAXTER JOHN C                  1586055           0.000000   \n",
       "BAY FRANKLIN R                     NaN           0.000000   \n",
       "\n",
       "                   restricted_stock_deferred shared_receipt_with_poi  \\\n",
       "ALLEN PHILLIP K                      -126027                    1407   \n",
       "BADUM JAMES P                            NaN                     NaN   \n",
       "BANNANTINE JAMES M                   -560222                     465   \n",
       "BAXTER JOHN C                            NaN                     NaN   \n",
       "BAY FRANKLIN R                        -82782                     NaN   \n",
       "\n",
       "                             ...              other director_fees    bonus  \\\n",
       "ALLEN PHILLIP K              ...                152           NaN  4175000   \n",
       "BADUM JAMES P                ...                NaN           NaN      NaN   \n",
       "BANNANTINE JAMES M           ...             864523           NaN      NaN   \n",
       "BAXTER JOHN C                ...            2660303           NaN  1200000   \n",
       "BAY FRANKLIN R               ...                 69           NaN   400000   \n",
       "\n",
       "                   total_stock_value from_poi_to_this_person  \\\n",
       "ALLEN PHILLIP K              1729541                      47   \n",
       "BADUM JAMES P                 257817                     NaN   \n",
       "BANNANTINE JAMES M           5243487                      39   \n",
       "BAXTER JOHN C               10623258                     NaN   \n",
       "BAY FRANKLIN R                 63014                     NaN   \n",
       "\n",
       "                   from_this_person_to_poi restricted_stock  salary  \\\n",
       "ALLEN PHILLIP K                         65           126027  201955   \n",
       "BADUM JAMES P                          NaN              NaN     NaN   \n",
       "BANNANTINE JAMES M                       0          1757552     477   \n",
       "BAXTER JOHN C                          NaN          3942714  267102   \n",
       "BAY FRANKLIN R                         NaN           145796  239671   \n",
       "\n",
       "                   total_payments exercised_stock_options  \n",
       "ALLEN PHILLIP K           4484442                 1729541  \n",
       "BADUM JAMES P              182466                  257817  \n",
       "BANNANTINE JAMES M         916197                 4046157  \n",
       "BAXTER JOHN C             5634343                 6680544  \n",
       "BAY FRANKLIN R             827696                     NaN  \n",
       "\n",
       "[5 rows x 22 columns]"
      ]
     },
     "execution_count": 148,
     "metadata": {},
     "output_type": "execute_result"
    }
   ],
   "source": [
    "df.head()"
   ]
  },
  {
   "cell_type": "code",
   "execution_count": 149,
   "metadata": {
    "collapsed": false
   },
   "outputs": [
    {
     "data": {
      "text/plain": [
       "(143, 22)"
      ]
     },
     "execution_count": 149,
     "metadata": {},
     "output_type": "execute_result"
    }
   ],
   "source": [
    "# Dimensions\n",
    "df.shape"
   ]
  },
  {
   "cell_type": "code",
   "execution_count": 150,
   "metadata": {
    "collapsed": false
   },
   "outputs": [],
   "source": [
    "poi = df.pop('poi')"
   ]
  },
  {
   "cell_type": "code",
   "execution_count": 151,
   "metadata": {
    "collapsed": true
   },
   "outputs": [],
   "source": [
    "df.insert(0, 'poi', poi)"
   ]
  },
  {
   "cell_type": "code",
   "execution_count": 152,
   "metadata": {
    "collapsed": false
   },
   "outputs": [
    {
     "data": {
      "text/html": [
       "<div>\n",
       "<table border=\"1\" class=\"dataframe\">\n",
       "  <thead>\n",
       "    <tr style=\"text-align: right;\">\n",
       "      <th></th>\n",
       "      <th>poi</th>\n",
       "      <th>to_messages</th>\n",
       "      <th>deferral_payments</th>\n",
       "      <th>expenses</th>\n",
       "      <th>deferred_income</th>\n",
       "      <th>email_address</th>\n",
       "      <th>long_term_incentive</th>\n",
       "      <th>from_to_poi_ratio</th>\n",
       "      <th>restricted_stock_deferred</th>\n",
       "      <th>shared_receipt_with_poi</th>\n",
       "      <th>...</th>\n",
       "      <th>other</th>\n",
       "      <th>director_fees</th>\n",
       "      <th>bonus</th>\n",
       "      <th>total_stock_value</th>\n",
       "      <th>from_poi_to_this_person</th>\n",
       "      <th>from_this_person_to_poi</th>\n",
       "      <th>restricted_stock</th>\n",
       "      <th>salary</th>\n",
       "      <th>total_payments</th>\n",
       "      <th>exercised_stock_options</th>\n",
       "    </tr>\n",
       "  </thead>\n",
       "  <tbody>\n",
       "    <tr>\n",
       "      <th>ALLEN PHILLIP K</th>\n",
       "      <td>False</td>\n",
       "      <td>2902</td>\n",
       "      <td>2869717</td>\n",
       "      <td>13868</td>\n",
       "      <td>-3081055</td>\n",
       "      <td>phillip.allen@enron.com</td>\n",
       "      <td>304805</td>\n",
       "      <td>0.029613</td>\n",
       "      <td>-126027</td>\n",
       "      <td>1407</td>\n",
       "      <td>...</td>\n",
       "      <td>152</td>\n",
       "      <td>NaN</td>\n",
       "      <td>4175000</td>\n",
       "      <td>1729541</td>\n",
       "      <td>47</td>\n",
       "      <td>65</td>\n",
       "      <td>126027</td>\n",
       "      <td>201955</td>\n",
       "      <td>4484442</td>\n",
       "      <td>1729541</td>\n",
       "    </tr>\n",
       "    <tr>\n",
       "      <th>BADUM JAMES P</th>\n",
       "      <td>False</td>\n",
       "      <td>NaN</td>\n",
       "      <td>178980</td>\n",
       "      <td>3486</td>\n",
       "      <td>NaN</td>\n",
       "      <td>NaN</td>\n",
       "      <td>NaN</td>\n",
       "      <td>0.000000</td>\n",
       "      <td>NaN</td>\n",
       "      <td>NaN</td>\n",
       "      <td>...</td>\n",
       "      <td>NaN</td>\n",
       "      <td>NaN</td>\n",
       "      <td>NaN</td>\n",
       "      <td>257817</td>\n",
       "      <td>NaN</td>\n",
       "      <td>NaN</td>\n",
       "      <td>NaN</td>\n",
       "      <td>NaN</td>\n",
       "      <td>182466</td>\n",
       "      <td>257817</td>\n",
       "    </tr>\n",
       "    <tr>\n",
       "      <th>BANNANTINE JAMES M</th>\n",
       "      <td>False</td>\n",
       "      <td>566</td>\n",
       "      <td>NaN</td>\n",
       "      <td>56301</td>\n",
       "      <td>-5104</td>\n",
       "      <td>james.bannantine@enron.com</td>\n",
       "      <td>NaN</td>\n",
       "      <td>0.000000</td>\n",
       "      <td>-560222</td>\n",
       "      <td>465</td>\n",
       "      <td>...</td>\n",
       "      <td>864523</td>\n",
       "      <td>NaN</td>\n",
       "      <td>NaN</td>\n",
       "      <td>5243487</td>\n",
       "      <td>39</td>\n",
       "      <td>0</td>\n",
       "      <td>1757552</td>\n",
       "      <td>477</td>\n",
       "      <td>916197</td>\n",
       "      <td>4046157</td>\n",
       "    </tr>\n",
       "    <tr>\n",
       "      <th>BAXTER JOHN C</th>\n",
       "      <td>False</td>\n",
       "      <td>NaN</td>\n",
       "      <td>1295738</td>\n",
       "      <td>11200</td>\n",
       "      <td>-1386055</td>\n",
       "      <td>NaN</td>\n",
       "      <td>1586055</td>\n",
       "      <td>0.000000</td>\n",
       "      <td>NaN</td>\n",
       "      <td>NaN</td>\n",
       "      <td>...</td>\n",
       "      <td>2660303</td>\n",
       "      <td>NaN</td>\n",
       "      <td>1200000</td>\n",
       "      <td>10623258</td>\n",
       "      <td>NaN</td>\n",
       "      <td>NaN</td>\n",
       "      <td>3942714</td>\n",
       "      <td>267102</td>\n",
       "      <td>5634343</td>\n",
       "      <td>6680544</td>\n",
       "    </tr>\n",
       "    <tr>\n",
       "      <th>BAY FRANKLIN R</th>\n",
       "      <td>False</td>\n",
       "      <td>NaN</td>\n",
       "      <td>260455</td>\n",
       "      <td>129142</td>\n",
       "      <td>-201641</td>\n",
       "      <td>frank.bay@enron.com</td>\n",
       "      <td>NaN</td>\n",
       "      <td>0.000000</td>\n",
       "      <td>-82782</td>\n",
       "      <td>NaN</td>\n",
       "      <td>...</td>\n",
       "      <td>69</td>\n",
       "      <td>NaN</td>\n",
       "      <td>400000</td>\n",
       "      <td>63014</td>\n",
       "      <td>NaN</td>\n",
       "      <td>NaN</td>\n",
       "      <td>145796</td>\n",
       "      <td>239671</td>\n",
       "      <td>827696</td>\n",
       "      <td>NaN</td>\n",
       "    </tr>\n",
       "  </tbody>\n",
       "</table>\n",
       "<p>5 rows × 22 columns</p>\n",
       "</div>"
      ],
      "text/plain": [
       "                      poi to_messages deferral_payments expenses  \\\n",
       "ALLEN PHILLIP K     False        2902           2869717    13868   \n",
       "BADUM JAMES P       False         NaN            178980     3486   \n",
       "BANNANTINE JAMES M  False         566               NaN    56301   \n",
       "BAXTER JOHN C       False         NaN           1295738    11200   \n",
       "BAY FRANKLIN R      False         NaN            260455   129142   \n",
       "\n",
       "                   deferred_income               email_address  \\\n",
       "ALLEN PHILLIP K           -3081055     phillip.allen@enron.com   \n",
       "BADUM JAMES P                  NaN                         NaN   \n",
       "BANNANTINE JAMES M           -5104  james.bannantine@enron.com   \n",
       "BAXTER JOHN C             -1386055                         NaN   \n",
       "BAY FRANKLIN R             -201641         frank.bay@enron.com   \n",
       "\n",
       "                   long_term_incentive  from_to_poi_ratio  \\\n",
       "ALLEN PHILLIP K                 304805           0.029613   \n",
       "BADUM JAMES P                      NaN           0.000000   \n",
       "BANNANTINE JAMES M                 NaN           0.000000   \n",
       "BAXTER JOHN C                  1586055           0.000000   \n",
       "BAY FRANKLIN R                     NaN           0.000000   \n",
       "\n",
       "                   restricted_stock_deferred shared_receipt_with_poi  \\\n",
       "ALLEN PHILLIP K                      -126027                    1407   \n",
       "BADUM JAMES P                            NaN                     NaN   \n",
       "BANNANTINE JAMES M                   -560222                     465   \n",
       "BAXTER JOHN C                            NaN                     NaN   \n",
       "BAY FRANKLIN R                        -82782                     NaN   \n",
       "\n",
       "                             ...              other director_fees    bonus  \\\n",
       "ALLEN PHILLIP K              ...                152           NaN  4175000   \n",
       "BADUM JAMES P                ...                NaN           NaN      NaN   \n",
       "BANNANTINE JAMES M           ...             864523           NaN      NaN   \n",
       "BAXTER JOHN C                ...            2660303           NaN  1200000   \n",
       "BAY FRANKLIN R               ...                 69           NaN   400000   \n",
       "\n",
       "                   total_stock_value from_poi_to_this_person  \\\n",
       "ALLEN PHILLIP K              1729541                      47   \n",
       "BADUM JAMES P                 257817                     NaN   \n",
       "BANNANTINE JAMES M           5243487                      39   \n",
       "BAXTER JOHN C               10623258                     NaN   \n",
       "BAY FRANKLIN R                 63014                     NaN   \n",
       "\n",
       "                   from_this_person_to_poi restricted_stock  salary  \\\n",
       "ALLEN PHILLIP K                         65           126027  201955   \n",
       "BADUM JAMES P                          NaN              NaN     NaN   \n",
       "BANNANTINE JAMES M                       0          1757552     477   \n",
       "BAXTER JOHN C                          NaN          3942714  267102   \n",
       "BAY FRANKLIN R                         NaN           145796  239671   \n",
       "\n",
       "                   total_payments exercised_stock_options  \n",
       "ALLEN PHILLIP K           4484442                 1729541  \n",
       "BADUM JAMES P              182466                  257817  \n",
       "BANNANTINE JAMES M         916197                 4046157  \n",
       "BAXTER JOHN C             5634343                 6680544  \n",
       "BAY FRANKLIN R             827696                     NaN  \n",
       "\n",
       "[5 rows x 22 columns]"
      ]
     },
     "execution_count": 152,
     "metadata": {},
     "output_type": "execute_result"
    }
   ],
   "source": [
    "# Check that poi is first column after the name\n",
    "df.head()"
   ]
  },
  {
   "cell_type": "code",
   "execution_count": 153,
   "metadata": {
    "collapsed": false
   },
   "outputs": [],
   "source": [
    "import sys\n",
    "sys.path.append(\"..\\\\tools\\\\\")\n",
    "from feature_format import featureFormat, targetFeatureSplit\n",
    "\n",
    "labels, features = targetFeatureSplit(df.values)"
   ]
  },
  {
   "cell_type": "code",
   "execution_count": 154,
   "metadata": {
    "collapsed": false
   },
   "outputs": [
    {
     "data": {
      "text/plain": [
       "[False, False, False, False, False, False, False, True, False, False, False, False, False, False, False, True, False, False, False, False, True, False, True, False, False, False, True, False, False, False, False, True, False, False, False, False, False, False, False, False, False, False, False, True, False, False, False, False, False, False, False, False, False, False, True, False, False, False, False, True, False, False, False, False, False, True, False, False, False, False, False, False, False, False, False, False, True, True, False, True, False, False, False, False, False, False, False, False, False, False, False, False, False, False, False, False, False, False, False, False, False, False, False, False, False, False, False, False, False, False, False, True, True, False, False, False, False, False, True, False, False, True, False, False, False, False, False, False, False, False, False, False, False, False, False, False, False, False, False, False, False, True, False]"
      ]
     },
     "execution_count": 154,
     "metadata": {},
     "output_type": "execute_result"
    }
   ],
   "source": [
    "labels"
   ]
  },
  {
   "cell_type": "code",
   "execution_count": 155,
   "metadata": {
    "collapsed": false
   },
   "outputs": [
    {
     "data": {
      "text/plain": [
       "[array([2902, 2869717, 13868, -3081055, 'phillip.allen@enron.com', 304805,\n",
       "       0.029612756264236904, -126027, 1407, 'NaN', 2195, 152, 'NaN',\n",
       "       4175000, 1729541, 47, 65, 126027, 201955, 4484442, 1729541], dtype=object), array(['NaN', 178980, 3486, 'NaN', 'NaN', 'NaN', 0.0, 'NaN', 'NaN', 'NaN',\n",
       "       'NaN', 'NaN', 'NaN', 'NaN', 257817, 'NaN', 'NaN', 'NaN', 'NaN',\n",
       "       182466, 257817], dtype=object), array([566, 'NaN', 56301, -5104, 'james.bannantine@enron.com', 'NaN', 0.0,\n",
       "       -560222, 465, 'NaN', 29, 864523, 'NaN', 'NaN', 5243487, 39, 0,\n",
       "       1757552, 477, 916197, 4046157], dtype=object), array(['NaN', 1295738, 11200, -1386055, 'NaN', 1586055, 0.0, 'NaN', 'NaN',\n",
       "       'NaN', 'NaN', 2660303, 'NaN', 1200000, 10623258, 'NaN', 'NaN',\n",
       "       3942714, 267102, 5634343, 6680544], dtype=object), array(['NaN', 260455, 129142, -201641, 'frank.bay@enron.com', 'NaN', 0.0,\n",
       "       -82782, 'NaN', 'NaN', 'NaN', 69, 'NaN', 400000, 63014, 'NaN', 'NaN',\n",
       "       145796, 239671, 827696, 'NaN'], dtype=object), array(['NaN', 684694, 'NaN', 'NaN', 'NaN', 93750, 0.0, 'NaN', 'NaN', 'NaN',\n",
       "       'NaN', 874, 'NaN', 'NaN', 1599641, 'NaN', 'NaN', 'NaN', 80818,\n",
       "       860136, 1599641], dtype=object), array([7315, 'NaN', 37172, 'NaN', 'sally.beck@enron.com', 'NaN',\n",
       "       0.08887865530739121, 'NaN', 2639, 'NaN', 4343, 566, 'NaN', 700000,\n",
       "       126027, 144, 386, 126027, 231330, 969068, 'NaN'], dtype=object), array([7991, 2144013, 17355, -2334434, 'tim.belden@enron.com', 'NaN',\n",
       "       0.2231404958677686, 'NaN', 5521, 'NaN', 484, 210698, 'NaN', 5249999,\n",
       "       1110705, 228, 108, 157569, 213999, 5501630, 953136], dtype=object), array(['NaN', -102500, 'NaN', 'NaN', 'NaN', 'NaN', 0.0, 44093, 'NaN',\n",
       "       'NaN', 'NaN', 'NaN', 3285, 'NaN', -44093, 'NaN', 'NaN', 'NaN',\n",
       "       'NaN', 102500, 3285], dtype=object), array(['NaN', 'NaN', 11892, 'NaN', 'david.berberian@enron.com', 'NaN', 0.0,\n",
       "       'NaN', 'NaN', 'NaN', 'NaN', 'NaN', 'NaN', 'NaN', 2493616, 'NaN',\n",
       "       'NaN', 869220, 216582, 228474, 1624396], dtype=object), array([383, 'NaN', 59175, -485813, 'rick.bergsieker@enron.com', 180250,\n",
       "       0.0, 'NaN', 233, 'NaN', 59, 427316, 'NaN', 250000, 659249, 4, 0,\n",
       "       659249, 187922, 618850, 'NaN'], dtype=object), array([523, 'NaN', 'NaN', 'NaN', 'sanjay.bhatnagar@enron.com', 'NaN',\n",
       "       0.034482758620689655, 15456290, 463, 'NaN', 29, 137864, 137864,\n",
       "       'NaN', 'NaN', 0, 1, -2604490, 'NaN', 15456290, 2604490], dtype=object), array([1607, 'NaN', 38559, 'NaN', 'philippe.bibi@enron.com', 369721, 0.2,\n",
       "       'NaN', 1336, 'NaN', 40, 425688, 'NaN', 1000000, 1843816, 23, 8,\n",
       "       378082, 213625, 2047593, 1465734], dtype=object), array([2475, 'NaN', 84208, 'NaN', 'jeremy.blachman@enron.com', 831809,\n",
       "       0.14285714285714285, 'NaN', 2326, 'NaN', 14, 272, 'NaN', 850000,\n",
       "       954354, 25, 2, 189041, 248546, 2014835, 765313], dtype=object), array(['NaN', 'NaN', 1279, -113784, 'NaN', 'NaN', 0.0, 'NaN', 'NaN', 'NaN',\n",
       "       'NaN', 'NaN', 113784, 'NaN', 'NaN', 'NaN', 'NaN', 'NaN', 'NaN',\n",
       "       1279, 'NaN'], dtype=object), array([1858, 'NaN', 65907, -833, 'raymond.bowen@enron.com', 974293,\n",
       "       0.5555555555555556, 'NaN', 1593, 'NaN', 27, 1621, 'NaN', 1350000,\n",
       "       252055, 140, 15, 252055, 278601, 2669589, 'NaN'], dtype=object), array([1486, 'NaN', 49288, 'NaN', 'michael.brown@enron.com', 'NaN',\n",
       "       0.024390243902439025, 'NaN', 761, 'NaN', 41, 'NaN', 'NaN', 'NaN',\n",
       "       'NaN', 13, 1, 'NaN', 'NaN', 49288, 'NaN'], dtype=object), array([1088, 'NaN', 600, 'NaN', 'john.buchanan@enron.com', 304805, 0.0,\n",
       "       'NaN', 23, 'NaN', 125, 1215, 'NaN', 500000, 1014505, 0, 0, 189041,\n",
       "       248017, 1054637, 825464], dtype=object), array(['NaN', 'NaN', 9410, -75000, 'bob.butts@enron.com', 175000, 0.0,\n",
       "       'NaN', 'NaN', 'NaN', 'NaN', 150656, 'NaN', 750000, 417619, 'NaN',\n",
       "       'NaN', 417619, 261516, 1271582, 'NaN'], dtype=object), array([3523, 649584, 'NaN', -694862, 'rick.buy@enron.com', 769862,\n",
       "       0.06742640075973409, 'NaN', 2333, 'NaN', 1053, 400572, 'NaN',\n",
       "       900000, 3444470, 156, 71, 901657, 330546, 2355702, 2542813], dtype=object), array([2598, 'NaN', 35818, -262500, 'christopher.calger@enron.com', 375304,\n",
       "       0.1736111111111111, 'NaN', 2188, 'NaN', 144, 486, 'NaN', 1250000,\n",
       "       126027, 199, 25, 126027, 240189, 1639297, 'NaN'], dtype=object), array([312, 'NaN', 'NaN', -159792, 'rebecca.carter@enron.com', 75000,\n",
       "       0.4666666666666667, -307301, 196, 'NaN', 15, 540, 'NaN', 300000,\n",
       "       'NaN', 29, 7, 307301, 261809, 477557, 'NaN'], dtype=object), array([1892, 'NaN', 30674, -235000, 'richard.causey@enron.com', 350000,\n",
       "       0.24489795918367346, 'NaN', 1585, 'NaN', 49, 307895, 'NaN', 1000000,\n",
       "       2502063, 58, 12, 2502063, 415189, 1868758, 'NaN'], dtype=object), array(['NaN', 'NaN', 'NaN', -98784, 'NaN', 'NaN', 0.0, -32460, 'NaN',\n",
       "       'NaN', 'NaN', 'NaN', 98784, 'NaN', 'NaN', 'NaN', 'NaN', 32460,\n",
       "       'NaN', 'NaN', 'NaN'], dtype=object), array(['NaN', 'NaN', 'NaN', 'NaN', 'diomedes.christodoulou@enron.com',\n",
       "       'NaN', 0.0, 'NaN', 'NaN', 'NaN', 'NaN', 'NaN', 'NaN', 'NaN',\n",
       "       6077885, 'NaN', 'NaN', 950730, 'NaN', 'NaN', 5127155], dtype=object), array(['NaN', 'NaN', 'NaN', 'NaN', 'NaN', 'NaN', 0.0, -472568, 'NaN',\n",
       "       'NaN', 'NaN', 'NaN', 'NaN', 'NaN', 189518, 'NaN', 'NaN', 662086,\n",
       "       'NaN', 'NaN', 'NaN'], dtype=object), array([1758, 27610, 16514, -144062, 'wes.colwell@enron.com', 'NaN', 0.275,\n",
       "       'NaN', 1132, 'NaN', 40, 101740, 'NaN', 1200000, 698242, 240, 11,\n",
       "       698242, 288542, 1490344, 'NaN'], dtype=object), array([764, 'NaN', 'NaN', 'NaN', 'bill.cordes@enron.com', 'NaN', 0.0,\n",
       "       'NaN', 58, 'NaN', 12, 'NaN', 'NaN', 'NaN', 1038185, 10, 0, 386335,\n",
       "       'NaN', 'NaN', 651850], dtype=object), array([102, 'NaN', 27861, -41250, 'chip.cox@enron.com', 'NaN',\n",
       "       0.12121212121212122, 'NaN', 71, 'NaN', 33, 494, 'NaN', 800000,\n",
       "       495633, 0, 4, 378082, 314288, 1101393, 117551], dtype=object), array(['NaN', 'NaN', 22344, 'NaN', 'NaN', 275000, 0.0, 'NaN', 'NaN', 'NaN',\n",
       "       'NaN', 713, 'NaN', 325000, 207940, 'NaN', 'NaN', 207940, 184899,\n",
       "       807956, 'NaN'], dtype=object), array([714, 'NaN', 41626, 'NaN', 'joseph.deffner@enron.com', 335349,\n",
       "       0.05405405405405406, 'NaN', 552, 'NaN', 74, 25553, 'NaN', 600000,\n",
       "       159211, 115, 4, 141833, 206121, 1208649, 17378], dtype=object), array([3093, 'NaN', 86174, 'NaN', 'david.delainey@enron.com', 1294981,\n",
       "       0.198435972629521, 'NaN', 2097, 'NaN', 3069, 1661, 'NaN', 3000000,\n",
       "       3614261, 66, 609, 1323148, 365163, 4747979, 2291113], dtype=object), array([2181, 'NaN', 51124, -1284000, 'james.derrick@enron.com', 484000,\n",
       "       0.022002200220022004, -1787380, 1401, 'NaN', 909, 7482, 'NaN',\n",
       "       800000, 8831913, 64, 20, 1787380, 492375, 550981, 8831913], dtype=object), array(['NaN', 875307, 52255, -775241, 'timothy.detmering@enron.com',\n",
       "       415657, 0.0, -315068, 'NaN', 'NaN', 'NaN', 1105, 'NaN', 425000,\n",
       "       2027865, 'NaN', 'NaN', 315068, 210500, 1204583, 2027865], dtype=object), array([2572, 'NaN', 3475, 'NaN', 'janet.dietrich@enron.com', 556416,\n",
       "       0.2222222222222222, 'NaN', 1902, 'NaN', 63, 473, 'NaN', 600000,\n",
       "       1865087, 305, 14, 315068, 250100, 1410464, 1550019], dtype=object), array(['NaN', 'NaN', 35812, 'NaN', 'richard.dimichele@enron.com', 694862,\n",
       "       0.0, 'NaN', 'NaN', 'NaN', 'NaN', 374689, 'NaN', 1000000, 8317782,\n",
       "       'NaN', 'NaN', 126027, 262788, 2368151, 8191755], dtype=object), array([176, 'NaN', 28164, 'NaN', 'keith.dodson@enron.com', 'NaN',\n",
       "       0.21428571428571427, 'NaN', 114, 'NaN', 14, 774, 'NaN', 70000,\n",
       "       'NaN', 10, 3, 'NaN', 221003, 319941, 'NaN'], dtype=object), array([865, 'NaN', 96268, -300000, 'jeff.donahue@enron.com', 'NaN', 0.5,\n",
       "       'NaN', 772, 'NaN', 22, 891, 'NaN', 800000, 1080988, 188, 11, 315068,\n",
       "       278601, 875760, 765920], dtype=object), array(['NaN', 'NaN', 'NaN', -25000, 'NaN', 'NaN', 0.0, 'NaN', 'NaN', 'NaN',\n",
       "       'NaN', 'NaN', 102492, 'NaN', 371750, 'NaN', 'NaN', 'NaN', 'NaN',\n",
       "       77492, 371750], dtype=object), array([904, 'NaN', 25785, 'NaN', 'w.duran@enron.com', 1105218, 0.25, 'NaN',\n",
       "       599, 'NaN', 12, 1568, 'NaN', 750000, 1640910, 106, 3, 189041,\n",
       "       210692, 2093263, 1451869], dtype=object), array(['NaN', 'NaN', 21530, 'NaN', 'john.echols@enron.com', 2234774, 0.0,\n",
       "       'NaN', 'NaN', 'NaN', 'NaN', 53775, 'NaN', 200000, 1008941, 'NaN',\n",
       "       'NaN', 407503, 182245, 2692324, 601438], dtype=object), array(['NaN', 'NaN', 78552, -400729, 'steven.elliott@enron.com', 'NaN',\n",
       "       0.0, 'NaN', 'NaN', 'NaN', 'NaN', 12961, 'NaN', 350000, 6678735,\n",
       "       'NaN', 'NaN', 1788391, 170941, 211725, 4890344], dtype=object), array([1755, 'NaN', 95924, 'NaN', 'jim.fallon@enron.com', 374347,\n",
       "       0.49333333333333335, 'NaN', 1604, 'NaN', 75, 401481, 'NaN', 2500000,\n",
       "       2332399, 42, 37, 1392142, 304588, 3676340, 940257], dtype=object), array(['NaN', 'NaN', 55921, -1386055, 'andrew.fastow@enron.com', 1736055,\n",
       "       0.0, 'NaN', 'NaN', 'NaN', 'NaN', 277464, 'NaN', 1300000, 1794412,\n",
       "       'NaN', 'NaN', 1794412, 440698, 2424083, 'NaN'], dtype=object), array([936, 'NaN', 23870, 'NaN', 'jay.fitzgerald@enron.com', 556416, 0.5,\n",
       "       'NaN', 723, 'NaN', 16, 285414, 'NaN', 350000, 1621236, 1, 8, 956775,\n",
       "       199157, 1414857, 664461], dtype=object), array([517, 'NaN', 'NaN', 'NaN', 'kulvinder.fowler@enron.com', 'NaN', 0.0,\n",
       "       'NaN', 10, 'NaN', 36, 'NaN', 'NaN', 'NaN', 1884748, 0, 0, 560170,\n",
       "       'NaN', 'NaN', 1324578], dtype=object), array([57, 181755, 'NaN', 'NaN', 'tracy.foy@enron.com', 'NaN', 0.0, 'NaN',\n",
       "       2, 'NaN', 13, 'NaN', 'NaN', 'NaN', 343434, 0, 0, 'NaN', 'NaN',\n",
       "       181755, 343434], dtype=object), array([3275, 6426990, 86987, -3367011, 'mark.frevert@enron.com', 1617011,\n",
       "       0.2857142857142857, 'NaN', 2979, 2000000, 21, 7427621, 'NaN',\n",
       "       2000000, 14622185, 242, 6, 4188667, 1060932, 17252530, 10433518], dtype=object), array(['NaN', 50591, 'NaN', 'NaN', 'NaN', 'NaN', 0.0, 'NaN', 'NaN', 'NaN',\n",
       "       'NaN', 'NaN', 'NaN', 'NaN', 176378, 'NaN', 'NaN', 'NaN', 'NaN',\n",
       "       50591, 176378], dtype=object), array(['NaN', 73122, 50080, -1042, 'NaN', 'NaN', 0.0, 'NaN', 'NaN', 'NaN',\n",
       "       'NaN', 76547, 'NaN', 509870, 318607, 'NaN', 'NaN', 235370, 192008,\n",
       "       900585, 83237], dtype=object), array([209, 'NaN', 48405, 'NaN', 'kevin.garland@enron.com', 375304,\n",
       "       0.6136363636363636, 'NaN', 178, 'NaN', 44, 60814, 'NaN', 850000,\n",
       "       896153, 10, 27, 259907, 231946, 1566469, 636246], dtype=object), array(['NaN', 'NaN', 'NaN', 'NaN', 'NaN', 'NaN', 0.0, -72419, 'NaN', 'NaN',\n",
       "       'NaN', 'NaN', 'NaN', 'NaN', 1945360, 'NaN', 'NaN', 264013, 'NaN',\n",
       "       'NaN', 1753766], dtype=object), array([169, 504610, 'NaN', 'NaN', 'dana.gibbs@enron.com', 461912, 0.0,\n",
       "       'NaN', 23, 'NaN', 12, 'NaN', 'NaN', 'NaN', 2218275, 0, 0, 'NaN',\n",
       "       'NaN', 966522, 2218275], dtype=object), array(['NaN', 'NaN', 'NaN', 'NaN', 'NaN', 'NaN', 0.0, 'NaN', 'NaN', 'NaN',\n",
       "       'NaN', 'NaN', 'NaN', 'NaN', 85641, 'NaN', 'NaN', 75838, 'NaN',\n",
       "       'NaN', 9803], dtype=object), array([873, 'NaN', 125978, 'NaN', 'ben.glisan@enron.com', 71023, 0.375,\n",
       "       'NaN', 874, 'NaN', 16, 200308, 'NaN', 600000, 778546, 52, 6, 393818,\n",
       "       274975, 1272284, 384728], dtype=object), array(['NaN', 'NaN', 'NaN', 'NaN', 'joe.gold@enron.com', 304805, 0.0,\n",
       "       'NaN', 'NaN', 'NaN', 'NaN', 819288, 'NaN', 750000, 877611, 'NaN',\n",
       "       'NaN', 441096, 272880, 2146973, 436515], dtype=object), array(['NaN', 'NaN', 'NaN', 'NaN', 'NaN', 'NaN', 0.0, 'NaN', 'NaN', 'NaN',\n",
       "       'NaN', 'NaN', 119292, 'NaN', 'NaN', 'NaN', 'NaN', 'NaN', 'NaN',\n",
       "       119292, 'NaN'], dtype=object), array(['NaN', 93585, 'NaN', 'NaN', 'NaN', 365625, 0.0, 'NaN', 'NaN', 'NaN',\n",
       "       'NaN', 680833, 'NaN', 'NaN', 'NaN', 'NaN', 'NaN', 'NaN', 6615,\n",
       "       1146658, 'NaN'], dtype=object), array([4009, 2157527, 76169, -934484, 'mark.haedicke@enron.com', 983346,\n",
       "       0.03142709943328181, -329825, 1847, 'NaN', 1941, 52382, 'NaN',\n",
       "       1150000, 803094, 180, 61, 524169, 374125, 3859065, 608750], dtype=object), array([1045, 'NaN', 34039, -3117011, 'kevin.hannon@enron.com', 1617011,\n",
       "       0.65625, 'NaN', 1035, 'NaN', 32, 11350, 'NaN', 1500000, 6391065, 32,\n",
       "       21, 853064, 243293, 288682, 5538001], dtype=object), array([573, 'NaN', 475, 'NaN', 'david.haug@enron.com', 'NaN',\n",
       "       0.3684210526315789, 'NaN', 471, 'NaN', 19, 'NaN', 'NaN', 'NaN',\n",
       "       2217299, 4, 7, 2217299, 'NaN', 475, 'NaN'], dtype=object), array([504, 7961, 'NaN', 'NaN', 'robert.hayes@enron.com', 'NaN', 0.0,\n",
       "       'NaN', 50, 'NaN', 12, 'NaN', 'NaN', 'NaN', 151418, 16, 0, 151418,\n",
       "       'NaN', 7961, 'NaN'], dtype=object), array([2649, 'NaN', 'NaN', 'NaN', 'rod.hayslett@enron.com', 'NaN',\n",
       "       0.03581526861451461, 'NaN', 571, 'NaN', 1061, 'NaN', 'NaN', 'NaN',\n",
       "       346663, 35, 38, 346663, 'NaN', 'NaN', 'NaN'], dtype=object), array(['NaN', 'NaN', 48357, -280000, 'robert.hermann@enron.com', 150000,\n",
       "       0.0, 'NaN', 'NaN', 'NaN', 'NaN', 416441, 'NaN', 700000, 668132,\n",
       "       'NaN', 'NaN', 480632, 262663, 1297461, 187500], dtype=object), array([1320, 'NaN', 98849, 'NaN', 'gary.hickerson@enron.com', 69223,\n",
       "       0.037037037037037035, 'NaN', 900, 'NaN', 27, 1936, 'NaN', 1700000,\n",
       "       441096, 40, 1, 441096, 211788, 2081796, 'NaN'], dtype=object), array(['NaN', 10259, 77978, 'NaN', 'joe.hirko@enron.com', 'NaN', 0.0,\n",
       "       'NaN', 'NaN', 'NaN', 'NaN', 2856, 'NaN', 'NaN', 30766064, 'NaN',\n",
       "       'NaN', 'NaN', 'NaN', 91093, 30766064], dtype=object), array([2350, 3131860, 'NaN', 'NaN', 'stanley.horton@enron.com', 'NaN',\n",
       "       0.013979496738117428, 'NaN', 1074, 'NaN', 1073, 'NaN', 'NaN', 'NaN',\n",
       "       7256648, 44, 15, 2046079, 'NaN', 3131860, 5210569], dtype=object), array([719, 'NaN', 'NaN', 'NaN', 'james.hughes@enron.com', 'NaN',\n",
       "       0.14705882352941177, 'NaN', 589, 'NaN', 34, 'NaN', 'NaN', 'NaN',\n",
       "       1118394, 35, 5, 363428, 'NaN', 'NaN', 754966], dtype=object), array([128, 2964506, 4994, 'NaN', 'gene.humphrey@enron.com', 'NaN', 1.0,\n",
       "       'NaN', 119, 'NaN', 17, 'NaN', 'NaN', 'NaN', 2282768, 10, 17, 'NaN',\n",
       "       130724, 3100224, 2282768], dtype=object), array([496, 'NaN', 28093, 'NaN', 'larry.izzo@enron.com', 312500,\n",
       "       0.2631578947368421, 'NaN', 437, 'NaN', 19, 1553729, 'NaN', 'NaN',\n",
       "       5819980, 28, 5, 3654808, 85274, 1979596, 2165172], dtype=object), array([258, 'NaN', 10181, 'NaN', 'charlene.jackson@enron.com', 'NaN',\n",
       "       0.3392857142857143, 'NaN', 117, 'NaN', 56, 2435, 'NaN', 250000,\n",
       "       725735, 25, 19, 540672, 288558, 551174, 185063], dtype=object), array(['NaN', 'NaN', 'NaN', -25000, 'NaN', 'NaN', 0.0, -44093, 'NaN',\n",
       "       'NaN', 'NaN', 'NaN', 108750, 'NaN', 431750, 'NaN', 'NaN', 44093,\n",
       "       'NaN', 83750, 431750], dtype=object), array([4607, 'NaN', 83585, 'NaN', 'vince.kaminski@enron.com', 323466,\n",
       "       0.011901447661469933, 'NaN', 583, 'NaN', 14368, 4669, 'NaN', 400000,\n",
       "       976037, 41, 171, 126027, 275101, 1086821, 850010], dtype=object), array([12754, 'NaN', 41953, 'NaN', 'steven.kean@enron.com', 300000,\n",
       "       0.05725699067909454, 'NaN', 3639, 'NaN', 6759, 1231, 'NaN', 1000000,\n",
       "       6153642, 140, 387, 4131594, 404338, 1747522, 2022048], dtype=object), array(['NaN', 'NaN', 116335, -51042, 'joe.kishkill@enron.com', 'NaN', 0.0,\n",
       "       'NaN', 'NaN', 'NaN', 'NaN', 465357, 'NaN', 'NaN', 1034346, 'NaN',\n",
       "       'NaN', 1034346, 174246, 704896, 'NaN'], dtype=object), array([8305, 'NaN', 5774, 'NaN', 'louise.kitchen@enron.com', 'NaN',\n",
       "       0.11226851851851852, 'NaN', 3669, 'NaN', 1728, 93925, 'NaN',\n",
       "       3100000, 547143, 251, 194, 466101, 271442, 3471141, 81042], dtype=object), array([2374, 'NaN', 127017, 'NaN', 'mark.koenig@enron.com', 300000,\n",
       "       0.2459016393442623, 'NaN', 2271, 'NaN', 61, 150458, 'NaN', 700000,\n",
       "       1920055, 53, 15, 1248318, 309946, 1587421, 671737], dtype=object), array(['NaN', 'NaN', 118134, 'NaN', 'michael.kopper@enron.com', 602671,\n",
       "       0.0, 'NaN', 'NaN', 'NaN', 'NaN', 907502, 'NaN', 800000, 985032,\n",
       "       'NaN', 'NaN', 985032, 224305, 2652612, 'NaN'], dtype=object), array([7259, 'NaN', 49537, 'NaN', 'john.lavorato@enron.com', 2035380,\n",
       "       0.15899419729206962, 'NaN', 3962, 'NaN', 2585, 1552, 'NaN', 8000000,\n",
       "       5167144, 528, 411, 1008149, 339288, 10425757, 4158995], dtype=object), array([4273, 202911, 99832, -300000, 'kenneth.lay@enron.com', 3600000,\n",
       "       0.4444444444444444, 'NaN', 2411, 81525000, 36, 10359729, 'NaN',\n",
       "       7000000, 49110078, 123, 16, 14761694, 1072321, 103559793, 34348384], dtype=object), array([2822, 'NaN', 'NaN', 'NaN', 'dan.leff@enron.com', 1387399,\n",
       "       0.2222222222222222, 'NaN', 2672, 'NaN', 63, 3083, 'NaN', 1000000,\n",
       "       360528, 67, 14, 360528, 273746, 2664228, 'NaN'], dtype=object), array(['NaN', 'NaN', 'NaN', -25000, 'NaN', 'NaN', 0.0, 'NaN', 'NaN', 'NaN',\n",
       "       'NaN', 'NaN', 112492, 'NaN', 412878, 'NaN', 'NaN', 'NaN', 'NaN',\n",
       "       87492, 412878], dtype=object), array([952, 'NaN', 'NaN', 'NaN', 'richard.lewis@enron.com', 'NaN', 0.0,\n",
       "       'NaN', 739, 'NaN', 26, 'NaN', 'NaN', 'NaN', 850477, 10, 0, 'NaN',\n",
       "       'NaN', 'NaN', 850477], dtype=object), array(['NaN', 204075, 57727, 'NaN', 'tod.lindholm@enron.com', 175000, 0.0,\n",
       "       'NaN', 'NaN', 'NaN', 'NaN', 2630, 'NaN', 200000, 3064208, 'NaN',\n",
       "       'NaN', 514847, 236457, 875889, 2549361], dtype=object), array(['NaN', 'NaN', 'NaN', 'NaN', 'NaN', 'NaN', 0.0, -153686, 'NaN',\n",
       "       'NaN', 'NaN', 'NaN', 'NaN', 'NaN', 372205, 'NaN', 'NaN', 153686,\n",
       "       'NaN', 'NaN', 372205], dtype=object), array([1522, 85430, 8211, 'NaN', 'a..martin@enron.com', 5145434, 0.0,\n",
       "       'NaN', 477, 'NaN', 230, 2818454, 'NaN', 'NaN', 2070306, 8, 0, 'NaN',\n",
       "       349487, 8407016, 2070306], dtype=object), array([1433, 'NaN', 'NaN', 'NaN', 'danny.mccarty@enron.com', 'NaN',\n",
       "       0.009302325581395349, 'NaN', 508, 'NaN', 215, 'NaN', 'NaN', 'NaN',\n",
       "       758931, 25, 2, 94556, 'NaN', 'NaN', 664375], dtype=object), array([1744, 'NaN', 228763, -125000, 'george.mcclellan@enron.com', 'NaN',\n",
       "       0.0, 'NaN', 1469, 'NaN', 49, 51587, 'NaN', 900000, 947861, 52, 0,\n",
       "       441096, 263413, 1318763, 506765], dtype=object), array([3329, 'NaN', 81364, 'NaN', 'mike.mcconnell@enron.com', 554422,\n",
       "       0.07075127644055434, 'NaN', 2189, 'NaN', 2742, 540, 'NaN', 1100000,\n",
       "       3101279, 92, 194, 1478269, 365038, 2101364, 1623010], dtype=object), array([894, 'NaN', 'NaN', 'NaN', 'rebecca.mcdonald@enron.com', 'NaN',\n",
       "       0.07692307692307693, 'NaN', 720, 'NaN', 13, 'NaN', 'NaN', 'NaN',\n",
       "       1691366, 54, 1, 934065, 'NaN', 'NaN', 757301], dtype=object), array([2355, 'NaN', 137108, 'NaN', 'jeffrey.mcmahon@enron.com', 694862,\n",
       "       0.5416666666666666, 'NaN', 2228, 'NaN', 48, 297353, 'NaN', 2600000,\n",
       "       1662855, 58, 26, 558801, 370448, 4099771, 1104054], dtype=object), array(['NaN', 'NaN', 148, -103750, 'NaN', 'NaN', 0.0, 'NaN', 'NaN', 'NaN',\n",
       "       'NaN', 'NaN', 103750, 'NaN', 'NaN', 'NaN', 'NaN', 'NaN', 'NaN', 148,\n",
       "       'NaN'], dtype=object), array([807, 'NaN', 94299, 'NaN', 'mark.metts@enron.com', 'NaN',\n",
       "       0.034482758620689655, 'NaN', 702, 'NaN', 29, 1740, 'NaN', 600000,\n",
       "       585062, 38, 1, 585062, 365788, 1061827, 'NaN'], dtype=object), array(['NaN', 'NaN', 2151, -38346, 'NaN', 'NaN', 0.0, 'NaN', 'NaN', 'NaN',\n",
       "       'NaN', 'NaN', 38346, 'NaN', 'NaN', 'NaN', 'NaN', 'NaN', 'NaN', 2151,\n",
       "       'NaN'], dtype=object), array([232, 1848227, 'NaN', 'NaN', 'rockford.meyer@enron.com', 'NaN', 0.0,\n",
       "       'NaN', 22, 'NaN', 28, 'NaN', 'NaN', 'NaN', 955873, 0, 0, 462384,\n",
       "       'NaN', 1848227, 493489], dtype=object), array([672, 'NaN', 'NaN', 'NaN', 'michael.moran@enron.com', 'NaN', 0.0,\n",
       "       'NaN', 127, 'NaN', 19, 'NaN', 'NaN', 'NaN', 221141, 0, 0, 161602,\n",
       "       'NaN', 'NaN', 59539], dtype=object), array(['NaN', 'NaN', 35018, 'NaN', 'kristina.mordaunt@enron.com', 'NaN',\n",
       "       0.0, 'NaN', 'NaN', 'NaN', 'NaN', 1411, 'NaN', 325000, 208510, 'NaN',\n",
       "       'NaN', 208510, 267093, 628522, 'NaN'], dtype=object), array([136, 842924, 'NaN', -719000, 's..muller@enron.com', 1725545, 0.0,\n",
       "       'NaN', 114, 'NaN', 16, 947, 'NaN', 1100000, 1416848, 12, 0, 360528,\n",
       "       251654, 3202070, 1056320], dtype=object), array([2192, 'NaN', 57580, 'NaN', 'julia.murray@enron.com', 125000,\n",
       "       0.044444444444444446, 'NaN', 395, 'NaN', 45, 330, 'NaN', 400000,\n",
       "       597461, 11, 2, 196983, 229284, 812194, 400478], dtype=object), array(['NaN', 774401, 'NaN', 'NaN', 'NaN', 'NaN', 0.0, -94556, 'NaN',\n",
       "       'NaN', 'NaN', 'NaN', 'NaN', 'NaN', 368705, 'NaN', 'NaN', 463261,\n",
       "       'NaN', 774401, 'NaN'], dtype=object), array([1184, 77716, 63791, 'NaN', 'cindy.olson@enron.com', 100000,\n",
       "       0.28846153846153844, 'NaN', 856, 'NaN', 52, 972, 'NaN', 750000,\n",
       "       2606763, 20, 15, 969729, 329078, 1321557, 1637034], dtype=object), array(['NaN', 'NaN', 18834, 'NaN', 'jere.overdyke@enron.com', 135836, 0.0,\n",
       "       'NaN', 'NaN', 'NaN', 'NaN', 176, 'NaN', 'NaN', 7307594, 'NaN',\n",
       "       'NaN', 2041016, 94941, 249787, 5266578], dtype=object), array(['NaN', 'NaN', 32047, 'NaN', 'lou.pai@enron.com', 'NaN', 0.0, 'NaN',\n",
       "       'NaN', 'NaN', 'NaN', 1829457, 'NaN', 1000000, 23817930, 'NaN',\n",
       "       'NaN', 8453763, 261879, 3123383, 15364167], dtype=object), array(['NaN', 'NaN', 27942, -101250, 'NaN', 'NaN', 0.0, 'NaN', 'NaN',\n",
       "       'NaN', 'NaN', 'NaN', 101250, 'NaN', 'NaN', 'NaN', 'NaN', 'NaN',\n",
       "       'NaN', 27942, 'NaN'], dtype=object), array([898, 'NaN', 31653, 'NaN', 'mark.pickering@enron.com', 'NaN', 0.0,\n",
       "       'NaN', 728, 400000, 67, 'NaN', 'NaN', 300000, 28798, 7, 0, 'NaN',\n",
       "       655037, 1386690, 28798], dtype=object), array([1238, 1130036, 43057, -33333, 'greg.piper@enron.com', 'NaN',\n",
       "       0.21621621621621623, -409554, 742, 'NaN', 222, 778, 'NaN', 400000,\n",
       "       880290, 61, 48, 409554, 197091, 1737629, 880290], dtype=object), array([58, 'NaN', 'NaN', 'NaN', 'jim.piro@enron.com', 'NaN', 0.0625, 'NaN',\n",
       "       3, 'NaN', 16, 'NaN', 'NaN', 'NaN', 47304, 0, 1, 47304, 'NaN', 'NaN',\n",
       "       'NaN'], dtype=object), array([653, 'NaN', 'NaN', -17500, 'ken.powers@enron.com', 'NaN', 0.0,\n",
       "       'NaN', 12, 'NaN', 26, 'NaN', 17500, 'NaN', 'NaN', 0, 0, 'NaN',\n",
       "       'NaN', 'NaN', 'NaN'], dtype=object), array(['NaN', 564348, 'NaN', 'NaN', 'james.prentice@enron.com', 'NaN', 0.0,\n",
       "       'NaN', 'NaN', 'NaN', 'NaN', 'NaN', 'NaN', 'NaN', 1095040, 'NaN',\n",
       "       'NaN', 208809, 'NaN', 564348, 886231], dtype=object), array([1671, 'NaN', 14689, 'NaN', 'brian.redmond@enron.com', 'NaN',\n",
       "       0.22171945701357465, 'NaN', 1063, 'NaN', 221, 'NaN', 'NaN', 'NaN',\n",
       "       7890324, 204, 49, 381285, 96840, 111529, 7509039], dtype=object), array(['NaN', 51365, 8409, -200000, 'NaN', 156250, 0.0, -140264, 'NaN',\n",
       "       'NaN', 'NaN', 202052, 'NaN', 100000, 4221891, 'NaN', 'NaN', 201483,\n",
       "       76399, 394475, 4160672], dtype=object), array([905, 'NaN', 46950, -3504386, 'ken.rice@enron.com', 1617011,\n",
       "       0.2222222222222222, 'NaN', 864, 'NaN', 18, 174839, 'NaN', 1750000,\n",
       "       22542539, 42, 4, 2748364, 420636, 505050, 19794175], dtype=object), array([1328, 214678, 33271, -100000, 'paula.rieker@enron.com', 'NaN',\n",
       "       0.5853658536585366, 'NaN', 1258, 'NaN', 82, 1950, 'NaN', 700000,\n",
       "       1918887, 35, 48, 283649, 249201, 1099100, 1635238], dtype=object), array(['NaN', 'NaN', 'NaN', -121284, 'NaN', 'NaN', 0.0, 'NaN', 'NaN',\n",
       "       'NaN', 'NaN', 'NaN', 125034, 'NaN', 'NaN', 'NaN', 'NaN', 'NaN',\n",
       "       'NaN', 3750, 'NaN'], dtype=object), array(['NaN', 'NaN', 'NaN', 'NaN', 'matthew.scrimshaw@enron.com', 'NaN',\n",
       "       0.0, 'NaN', 'NaN', 'NaN', 'NaN', 'NaN', 'NaN', 'NaN', 759557, 'NaN',\n",
       "       'NaN', 'NaN', 'NaN', 'NaN', 759557], dtype=object), array([3221, 'NaN', 178979, 'NaN', 'jeffrey.shankman@enron.com', 554422,\n",
       "       0.030958597538232, 'NaN', 1730, 'NaN', 2681, 1191, 'NaN', 2000000,\n",
       "       2072035, 94, 83, 630137, 304110, 3038702, 1441898], dtype=object), array([15149, 'NaN', 137767, 'NaN', 'richard.shapiro@enron.com', 'NaN',\n",
       "       0.053497942386831275, 'NaN', 4527, 'NaN', 1215, 705, 'NaN', 650000,\n",
       "       987001, 74, 65, 379164, 269076, 1057548, 607837], dtype=object), array([3136, 187469, 116337, 'NaN', 'vicki.sharp@enron.com', 422158,\n",
       "       0.04411764705882353, 'NaN', 2477, 'NaN', 136, 2401, 'NaN', 600000,\n",
       "       494136, 24, 6, 213063, 248146, 1576511, 281073], dtype=object), array([225, 'NaN', 22884, -4167, 'rex.shelby@enron.com', 'NaN',\n",
       "       0.358974358974359, 'NaN', 91, 'NaN', 39, 1573324, 'NaN', 200000,\n",
       "       2493616, 13, 14, 869220, 211844, 2003885, 1624396], dtype=object), array([613, 'NaN', 'NaN', 'NaN', 'jeffrey.sherrick@enron.com', 'NaN', 0.72,\n",
       "       'NaN', 583, 'NaN', 25, 'NaN', 'NaN', 'NaN', 1832468, 39, 18, 405999,\n",
       "       'NaN', 'NaN', 1426469], dtype=object), array([3187, 'NaN', 'NaN', 'NaN', 'john.sherriff@enron.com', 554422, 0.25,\n",
       "       'NaN', 2103, 'NaN', 92, 1852186, 'NaN', 1500000, 3128982, 28, 23,\n",
       "       1293424, 428780, 4335388, 1835558], dtype=object), array([3627, 'NaN', 29336, 'NaN', 'jeff.skilling@enron.com', 1920000,\n",
       "       0.2777777777777778, 'NaN', 2042, 'NaN', 108, 22122, 'NaN', 5600000,\n",
       "       26093672, 88, 30, 6843672, 1111258, 8682716, 19250000], dtype=object), array(['NaN', 'NaN', 16514, 'NaN', 'frank.stabler@enron.com', 'NaN', 0.0,\n",
       "       'NaN', 'NaN', 'NaN', 'NaN', 356071, 'NaN', 500000, 511734, 'NaN',\n",
       "       'NaN', 511734, 239502, 1112087, 'NaN'], dtype=object), array(['NaN', 181993, 'NaN', 'NaN', 'NaN', 554422, 0.0, 'NaN', 'NaN',\n",
       "       'NaN', 'NaN', 162, 'NaN', 100000, 1362375, 'NaN', 'NaN', 'NaN',\n",
       "       162779, 999356, 1362375], dtype=object), array([2647, 'NaN', 'NaN', 'NaN', 'marty.sunde@enron.com', 476451,\n",
       "       0.34210526315789475, 'NaN', 2565, 'NaN', 38, 111122, 'NaN', 700000,\n",
       "       698920, 37, 13, 698920, 257486, 1545059, 'NaN'], dtype=object), array([533, 227449, 'NaN', 'NaN', 'mitchell.taylor@enron.com', 'NaN', 0.0,\n",
       "       'NaN', 300, 'NaN', 29, 'NaN', 'NaN', 600000, 3745048, 0, 0, 563798,\n",
       "       265214, 1092663, 3181250], dtype=object), array([266, 16586, 46145, 'NaN', 'terence.thorn@enron.com', 200000, 0.0,\n",
       "       'NaN', 73, 'NaN', 41, 426629, 'NaN', 'NaN', 4817796, 0, 0, 365320,\n",
       "       222093, 911453, 4452476], dtype=object), array([460, 'NaN', 'NaN', -575000, 'elizabeth.tilney@enron.com', 275000,\n",
       "       0.5789473684210527, 'NaN', 379, 'NaN', 19, 152055, 'NaN', 300000,\n",
       "       1168042, 10, 11, 576792, 247338, 399393, 591250], dtype=object), array([111, 'NaN', 53122, 'NaN', 'adam.umanoff@enron.com', 'NaN', 0.0,\n",
       "       'NaN', 41, 'NaN', 18, 'NaN', 'NaN', 788750, 'NaN', 12, 0, 'NaN',\n",
       "       288589, 1130461, 'NaN'], dtype=object), array(['NaN', 'NaN', 228656, -36666, 'NaN', 'NaN', 0.0, 'NaN', 'NaN',\n",
       "       'NaN', 'NaN', 'NaN', 36666, 'NaN', 'NaN', 'NaN', 'NaN', 'NaN',\n",
       "       'NaN', 228656, 'NaN'], dtype=object), array(['NaN', 'NaN', 103773, 'NaN', 'NaN', 'NaN', 0.0, 'NaN', 'NaN', 'NaN',\n",
       "       'NaN', 'NaN', 109298, 'NaN', 'NaN', 'NaN', 'NaN', 'NaN', 'NaN',\n",
       "       213071, 'NaN'], dtype=object), array([671, 'NaN', 50936, 'NaN', 'rob.walls@enron.com', 540751, 0.0, 'NaN',\n",
       "       215, 'NaN', 146, 2, 'NaN', 850000, 5898997, 17, 0, 1552453, 357091,\n",
       "       1798780, 4346544], dtype=object), array(['NaN', 53625, 33785, 'NaN', 'NaN', 'NaN', 0.0, 'NaN', 'NaN', 'NaN',\n",
       "       'NaN', 'NaN', 'NaN', 'NaN', 1030329, 'NaN', 'NaN', 'NaN', 'NaN',\n",
       "       87410, 1030329], dtype=object), array([400, 831299, 'NaN', -583325, 'george.wasaff@enron.com', 200000,\n",
       "       0.23333333333333334, 'NaN', 337, 'NaN', 30, 1425, 'NaN', 325000,\n",
       "       2056427, 22, 7, 388167, 259996, 1034395, 1668260], dtype=object), array(['NaN', 'NaN', 51870, -10800, 'dick.westfahl@enron.com', 256191, 0.0,\n",
       "       'NaN', 'NaN', 'NaN', 'NaN', 401130, 'NaN', 'NaN', 384930, 'NaN',\n",
       "       'NaN', 384930, 63744, 762135, 'NaN'], dtype=object), array(['NaN', 'NaN', 'NaN', 'NaN', 'NaN', 'NaN', 0.0, 'NaN', 'NaN', 'NaN',\n",
       "       'NaN', 'NaN', 'NaN', 'NaN', 98718, 'NaN', 'NaN', 'NaN', 'NaN',\n",
       "       'NaN', 98718], dtype=object), array([6019, 'NaN', 57838, 'NaN', 'greg.whalley@enron.com', 808346,\n",
       "       0.04316546762589928, 'NaN', 3920, 'NaN', 556, 301026, 'NaN',\n",
       "       3000000, 6079137, 186, 24, 2796177, 510364, 4677574, 3282960], dtype=object), array(['NaN', 'NaN', 81353, 'NaN', 'thomas.white@enron.com', 'NaN', 0.0,\n",
       "       'NaN', 'NaN', 'NaN', 'NaN', 1085463, 'NaN', 450000, 15144123, 'NaN',\n",
       "       'NaN', 13847074, 317543, 1934359, 1297049], dtype=object), array(['NaN', 'NaN', 1413, -25000, 'NaN', 'NaN', 0.0, 'NaN', 'NaN', 'NaN',\n",
       "       'NaN', 'NaN', 108579, 'NaN', 'NaN', 'NaN', 'NaN', 'NaN', 'NaN',\n",
       "       84992, 'NaN'], dtype=object), array(['NaN', 'NaN', 'NaN', 'NaN', 'john.wodraska@enron.com', 'NaN', 0.0,\n",
       "       'NaN', 'NaN', 'NaN', 'NaN', 189583, 'NaN', 'NaN', 'NaN', 'NaN',\n",
       "       'NaN', 'NaN', 'NaN', 189583, 'NaN'], dtype=object), array(['NaN', 'NaN', 'NaN', 'NaN', 'NaN', 'NaN', 0.0, 'NaN', 'NaN', 'NaN',\n",
       "       'NaN', 'NaN', 'NaN', 'NaN', 139130, 'NaN', 'NaN', 'NaN', 'NaN',\n",
       "       'NaN', 139130], dtype=object), array(['NaN', 'NaN', 53947, 'NaN', 'scott.yeager@enron.com', 'NaN', 0.0,\n",
       "       'NaN', 'NaN', 'NaN', 'NaN', 147950, 'NaN', 'NaN', 11884758, 'NaN',\n",
       "       'NaN', 3576206, 158403, 360300, 8308552], dtype=object), array(['NaN', 'NaN', 55097, 'NaN', 'NaN', 'NaN', 0.0, 'NaN', 'NaN', 'NaN',\n",
       "       'NaN', 'NaN', 'NaN', 'NaN', 192758, 'NaN', 'NaN', 'NaN', 'NaN',\n",
       "       55097, 192758], dtype=object)]"
      ]
     },
     "execution_count": 155,
     "metadata": {},
     "output_type": "execute_result"
    }
   ],
   "source": [
    "features"
   ]
  },
  {
   "cell_type": "markdown",
   "metadata": {},
   "source": [
    "## Use MinMaxScaler on Features"
   ]
  },
  {
   "cell_type": "code",
   "execution_count": 157,
   "metadata": {
    "collapsed": false
   },
   "outputs": [
    {
     "ename": "NameError",
     "evalue": "name 'scaleFeatures' is not defined",
     "output_type": "error",
     "traceback": [
      "\u001b[1;31m---------------------------------------------------------------------------\u001b[0m",
      "\u001b[1;31mNameError\u001b[0m                                 Traceback (most recent call last)",
      "\u001b[1;32m<ipython-input-157-942cf81e3e4a>\u001b[0m in \u001b[0;36m<module>\u001b[1;34m()\u001b[0m\n\u001b[0;32m      1\u001b[0m \u001b[1;31m# scale features\u001b[0m\u001b[1;33m\u001b[0m\u001b[1;33m\u001b[0m\u001b[0m\n\u001b[1;32m----> 2\u001b[1;33m \u001b[0mfeatures\u001b[0m \u001b[1;33m=\u001b[0m \u001b[0mscaleFeatures\u001b[0m\u001b[1;33m(\u001b[0m\u001b[0mfeatures\u001b[0m\u001b[1;33m)\u001b[0m\u001b[1;33m\u001b[0m\u001b[0m\n\u001b[0m",
      "\u001b[1;31mNameError\u001b[0m: name 'scaleFeatures' is not defined"
     ]
    }
   ],
   "source": [
    "# scale features\n",
    "from poi_feature_engineering import scaleFeatures\n",
    "features = scaleFeatures(features)"
   ]
  },
  {
   "cell_type": "code",
   "execution_count": null,
   "metadata": {
    "collapsed": true
   },
   "outputs": [],
   "source": [
    "\n",
    "    "
   ]
  }
 ],
 "metadata": {
  "kernelspec": {
   "display_name": "Python 2",
   "language": "python",
   "name": "python2"
  },
  "language_info": {
   "codemirror_mode": {
    "name": "ipython",
    "version": 2
   },
   "file_extension": ".py",
   "mimetype": "text/x-python",
   "name": "python",
   "nbconvert_exporter": "python",
   "pygments_lexer": "ipython2",
   "version": "2.7.10"
  }
 },
 "nbformat": 4,
 "nbformat_minor": 0
}
