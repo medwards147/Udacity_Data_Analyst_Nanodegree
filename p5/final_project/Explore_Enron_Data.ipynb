{
 "cells": [
  {
   "cell_type": "markdown",
   "metadata": {},
   "source": [
    "# Enron Dataset Exploration"
   ]
  },
  {
   "cell_type": "code",
   "execution_count": 115,
   "metadata": {
    "collapsed": false
   },
   "outputs": [],
   "source": [
    "%matplotlib inline\n",
    "import pickle\n",
    "import pprint\n",
    "import sys\n",
    "\n",
    "sys.path.append(\"../tools/\")\n",
    "from feature_format import featureFormat\n",
    "from feature_format import targetFeatureSplit\n",
    "\n",
    "\n",
    "\n",
    "enron_data = pickle.load(open(\"../final_project/final_project_dataset.pkl\", \"r\"))"
   ]
  },
  {
   "cell_type": "markdown",
   "metadata": {},
   "source": [
    "The code chunk above loads the data from a pickle file."
   ]
  },
  {
   "cell_type": "code",
   "execution_count": 116,
   "metadata": {
    "collapsed": false
   },
   "outputs": [
    {
     "name": "stdout",
     "output_type": "stream",
     "text": [
      "The number of people in the dataset 146\n"
     ]
    }
   ],
   "source": [
    "print(\"The number of people in the dataset {:.0f}\".format(len(enron_data.keys())))"
   ]
  },
  {
   "cell_type": "code",
   "execution_count": 117,
   "metadata": {
    "collapsed": false
   },
   "outputs": [
    {
     "name": "stdout",
     "output_type": "stream",
     "text": [
      "The number of data fields for each person are 21\n"
     ]
    }
   ],
   "source": [
    "print(\"The number of data fields for each person are {:.0f}\".format(len(enron_data['METTS MARK'])))"
   ]
  },
  {
   "cell_type": "code",
   "execution_count": 118,
   "metadata": {
    "collapsed": false
   },
   "outputs": [
    {
     "name": "stdout",
     "output_type": "stream",
     "text": [
      "The keys in the data set are: ['salary', 'to_messages', 'deferral_payments', 'total_payments', 'exercised_stock_options', 'bonus', 'restricted_stock', 'shared_receipt_with_poi', 'restricted_stock_deferred', 'total_stock_value', 'expenses', 'loan_advances', 'from_messages', 'other', 'from_this_person_to_poi', 'poi', 'director_fees', 'deferred_income', 'long_term_incentive', 'email_address', 'from_poi_to_this_person']\n"
     ]
    }
   ],
   "source": [
    "print(\"The keys in the data set are: {}\".format(enron_data['METTS MARK'].keys()))"
   ]
  },
  {
   "cell_type": "markdown",
   "metadata": {},
   "source": [
    "I will need to remove the email address field which obviously won't be useful information."
   ]
  },
  {
   "cell_type": "code",
   "execution_count": 119,
   "metadata": {
    "collapsed": false
   },
   "outputs": [
    {
     "name": "stdout",
     "output_type": "stream",
     "text": [
      "The number of pois (positive labels) is 18\n"
     ]
    }
   ],
   "source": [
    "count = 0\n",
    "for person in enron_data.keys():\n",
    "    if enron_data[person][\"poi\"] == 1:\n",
    "        count += 1\n",
    "    else:\n",
    "        continue\n",
    "print(\"The number of pois (positive labels) is {}\".format(count))"
   ]
  },
  {
   "cell_type": "code",
   "execution_count": 120,
   "metadata": {
    "collapsed": false
   },
   "outputs": [
    {
     "name": "stdout",
     "output_type": "stream",
     "text": [
      "The amount of people with a known salary are 95\n",
      "The amount of people with an unknown salary are 51\n",
      "\n",
      "The amount of people with a known email are 111\n",
      "The amount of people with an unknown email are 35\n"
     ]
    }
   ],
   "source": [
    "# Check Salary\n",
    "count_non_nans = 0\n",
    "count_nans = 0\n",
    "for key in enron_data.keys():\n",
    "    if enron_data[key]['salary'] != 'NaN':\n",
    "        count_non_nans += 1\n",
    "    else:\n",
    "        count_nans += 1\n",
    "print(\"The amount of people with a known salary are {}\".format(count_non_nans))\n",
    "print(\"The amount of people with an unknown salary are {}\".format(count_nans))\n",
    "\n",
    "# Check emails\n",
    "count_non_nans = 0\n",
    "count_nans = 0\n",
    "for key in enron_data.keys():\n",
    "    if enron_data[key]['email_address'] != 'NaN':\n",
    "        count_non_nans += 1\n",
    "    else:\n",
    "        count_nans += 1\n",
    "print(\"\")\n",
    "print(\"The amount of people with a known email are {}\".format(count_non_nans))\n",
    "print(\"The amount of people with an unknown email are {}\".format(count_nans))"
   ]
  },
  {
   "cell_type": "code",
   "execution_count": 131,
   "metadata": {
    "collapsed": false
   },
   "outputs": [
    {
     "name": "stdout",
     "output_type": "stream",
     "text": [
      "The amount of people with a value for total payments are 123\n",
      "The amount of people with a `NaN` value for total payments are 20\n",
      "Percentage 0.14\n"
     ]
    }
   ],
   "source": [
    "count_non_nans = 0\n",
    "count_nans = 0\n",
    "for key in enron_data.keys():\n",
    "    if enron_data[key]['total_payments'] != 'NaN':\n",
    "        count_non_nans += 1\n",
    "    else:\n",
    "        count_nans += 1\n",
    "print(\"The amount of people with a value for total payments are {}\".format(count_non_nans))\n",
    "print(\"The amount of people with a `NaN` value for total payments are {}\".format(count_nans))\n",
    "print(\"Percentage {:.2f}\".format(float(count_nans)/(float(count_non_nans) + float(count_nans))))"
   ]
  },
  {
   "cell_type": "code",
   "execution_count": 122,
   "metadata": {
    "collapsed": false
   },
   "outputs": [
    {
     "name": "stdout",
     "output_type": "stream",
     "text": [
      "The amount of POIs with a value for total payments are 18\n",
      "The amount of POIs with a **NaN** value for total payments are 0\n",
      "Percentage 0.00\n"
     ]
    }
   ],
   "source": [
    "# Percentage of POIs who have \"NaN\" as their total payments\n",
    "count_non_nans = 0\n",
    "count_nans = 0\n",
    "for key in enron_data.keys():\n",
    "    if enron_data[key]['poi'] == 1:\n",
    "        if enron_data[key]['total_payments'] != 'NaN':\n",
    "            count_non_nans += 1\n",
    "        else:\n",
    "            count_nans += 1\n",
    "    else:\n",
    "        continue\n",
    "print(\"The amount of POIs with a value for total payments are {}\".format(count_non_nans))\n",
    "print(\"The amount of POIs with a **NaN** value for total payments are {}\".format(count_nans))\n",
    "print(\"Percentage {:.2f}\".format(float(count_nans)/(float(count_non_nans) + float(count_nans))))"
   ]
  },
  {
   "cell_type": "markdown",
   "metadata": {},
   "source": [
    "The two code chunks identify that all POIs have a `totalpayments` value. Therefore, if I tried to collect additional POIs without having a `totalpaynments` value for them, it would be counterproductive."
   ]
  },
  {
   "cell_type": "code",
   "execution_count": 123,
   "metadata": {
    "collapsed": false
   },
   "outputs": [
    {
     "name": "stdout",
     "output_type": "stream",
     "text": [
      "name: LAY KENNETH L\n",
      "salary: 1072321\n",
      "bonus:  7000000\n",
      "name: SKILLING JEFFREY K\n",
      "salary: 1111258\n",
      "bonus:  5600000\n",
      "name: TOTAL\n",
      "salary: 26704229\n",
      "bonus:  97343619\n",
      "name: FREVERT MARK A\n",
      "salary: 1060932\n",
      "bonus:  2000000\n"
     ]
    }
   ],
   "source": [
    "# Outlier salary / bonus\n",
    "for key in enron_data.keys():\n",
    "    if enron_data[key]['salary'] > 1000000 and enron_data[key]['salary'] != 'NaN':\n",
    "        print \"name: \" + key\n",
    "        print \"salary:\", enron_data[key]['salary']\n",
    "        print \"bonus: \", enron_data[key]['bonus']"
   ]
  },
  {
   "cell_type": "markdown",
   "metadata": {},
   "source": [
    "Prior using the data to build predicitive models, it's prudent to check for outliers. The above output identifies several individuals with very large salaries. It turns out there is a key for \"TOTAL\". This will need to be removed."
   ]
  },
  {
   "cell_type": "code",
   "execution_count": 124,
   "metadata": {
    "collapsed": false
   },
   "outputs": [
    {
     "name": "stdout",
     "output_type": "stream",
     "text": [
      "[('HAEDICKE MARK E', 2),\n",
      " ('LAY KENNETH L', 2),\n",
      " ('ALLEN PHILLIP K', 2),\n",
      " ('FREVERT MARK A', 2),\n",
      " ('PIPER GREGORY F', 3),\n",
      " ('DERRICK JR. JAMES V', 3),\n",
      " ('HANNON KEVIN P', 4),\n",
      " ('MULLER MARK S', 4),\n",
      " ('RIEKER PAULA H', 4),\n",
      " ('OLSON CINDY K', 4),\n",
      " ('BELDEN TIMOTHY N', 4),\n",
      " ('RICE KENNETH D', 4),\n",
      " ('WASAFF GEORGE', 4),\n",
      " ('SHARP VICTORIA T', 4),\n",
      " ('BUY RICHARD B', 4),\n",
      " ('MCMAHON JEFFREY', 5),\n",
      " ('BLACHMAN JEREMY M', 5),\n",
      " ('COLWELL WESLEY', 5),\n",
      " ('WALLS JR ROBERT H', 5),\n",
      " ('SHANKMAN JEFFREY A', 5),\n",
      " ('BERGSIEKER RICHARD P', 5),\n",
      " ('BIBI PHILIPPE A', 5),\n",
      " ('LAVORATO JOHN J', 5),\n",
      " ('BANNANTINE JAMES M', 5),\n",
      " ('SHELBY REX', 5),\n",
      " ('DEFFNER JOSEPH M', 5),\n",
      " ('WHALLEY LAWRENCE G', 5),\n",
      " ('MCCONNELL MICHAEL S', 5),\n",
      " ('DELAINEY DAVID W', 5),\n",
      " ('FALLON JAMES B', 5),\n",
      " ('BOWEN JR RAYMOND M', 5),\n",
      " ('FITZGERALD JAY L', 5),\n",
      " ('DURAN WILLIAM D', 5),\n",
      " ('THORN TERENCE H', 5),\n",
      " ('CALGER CHRISTOPHER F', 5),\n",
      " ('KAMINSKI WINCENTY J', 5),\n",
      " ('COX DAVID', 5),\n",
      " ('SKILLING JEFFREY K', 5),\n",
      " ('KEAN STEVEN J', 5),\n",
      " ('MCCLELLAN GEORGE', 5),\n",
      " ('BUCHANAN HAROLD G', 5),\n",
      " ('MURRAY JULIA H', 5),\n",
      " ('GARLAND C KEVIN', 5),\n",
      " ('DIETRICH JANET R', 5),\n",
      " ('KOENIG MARK E', 5),\n",
      " ('TILNEY ELIZABETH A', 5),\n",
      " ('CAUSEY RICHARD A', 5),\n",
      " ('DONAHUE JR JEFFREY M', 5),\n",
      " ('GLISAN JR BEN F', 5),\n",
      " ('JACKSON CHARLENE R', 6),\n",
      " ('KITCHEN LOUISE', 6),\n",
      " ('HICKERSON GARY J', 6),\n",
      " ('SHAPIRO RICHARD S', 6),\n",
      " ('SHERRIFF JOHN R', 6),\n",
      " ('TOTAL', 6),\n",
      " ('CARTER REBECCA C', 6),\n",
      " ('IZZO LAWRENCE L', 6),\n",
      " ('MARTIN AMANDA K', 6),\n",
      " ('SUNDE MARTIN', 7),\n",
      " ('BECK SALLY W', 7),\n",
      " ('LEFF DANIEL P', 7),\n",
      " ('DETMERING TIMOTHY J', 7),\n",
      " ('PICKERING MARK R', 7),\n",
      " ('TAYLOR MITCHELL S', 7),\n",
      " ('HUMPHREY GENE E', 8),\n",
      " ('REDMOND BRIAN L', 8),\n",
      " ('REYNOLDS LAWRENCE', 8),\n",
      " ('BHATNAGAR SANJAY', 8),\n",
      " ('BAXTER JOHN C', 9),\n",
      " ('MEYER ROCKFORD G', 9),\n",
      " ('GIBBS DANA R', 9),\n",
      " ('LINDHOLM TOD A', 9),\n",
      " ('HERMANN ROBERT J', 9),\n",
      " ('HORTON STANLEY C', 9),\n",
      " ('DODSON KEITH', 9),\n",
      " ('BAY FRANKLIN R', 9),\n",
      " ('ELLIOTT STEVEN', 10),\n",
      " ('HAUG DAVID L', 10),\n",
      " ('ECHOLS JOHN B', 10),\n",
      " ('HAYES ROBERT E', 10),\n",
      " ('BUTTS ROBERT H', 10),\n",
      " ('GAHN ROBERT S', 10),\n",
      " ('DIMICHELE RICHARD G', 10),\n",
      " ('FASTOW ANDREW S', 10),\n",
      " ('FOY JOE', 10),\n",
      " ('UMANOFF ADAM S', 10),\n",
      " ('CORDES WILLIAM R', 11),\n",
      " ('WESTFAHL RICHARD K', 11),\n",
      " ('KOPPER MICHAEL J', 11),\n",
      " ('GOLD JOSEPH', 11),\n",
      " ('MCDONALD REBECCA', 11),\n",
      " ('MORAN MICHAEL P', 11),\n",
      " ('OVERDYKE JR JERE C', 11),\n",
      " ('SHERRICK JEFFREY B', 11),\n",
      " ('FOWLER PEGGY', 11),\n",
      " ('WHITE JR THOMAS E', 11),\n",
      " ('HUGHES JAMES A', 11),\n",
      " ('PAI LOU L', 11),\n",
      " ('MCCARTY DANNY J', 11),\n",
      " ('MORDAUNT KRISTINA M', 12),\n",
      " ('LEWIS RICHARD', 12),\n",
      " ('POWERS WILLIAM', 12),\n",
      " ('KISHKILL JOSEPH G', 12),\n",
      " ('PIRO JIM', 12),\n",
      " ('SULLIVAN-SHAKLOVITZ COLLEEN', 12),\n",
      " ('CUMBERLAND MICHAEL S', 12),\n",
      " ('STABLER FRANK', 12),\n",
      " ('BROWN MICHAEL', 12),\n",
      " ('YEAGER F SCOTT', 12),\n",
      " ('HAYSLETT RODERICK J', 12),\n",
      " ('BERBERIAN DAVID', 13),\n",
      " ('BAZELIDES PHILIP J', 13),\n",
      " ('JAEDICKE ROBERT', 13),\n",
      " ('HIRKO JOSEPH', 13),\n",
      " ('BELFER ROBERT', 14),\n",
      " ('PRENTICE JAMES', 14),\n",
      " ('NOLES JAMES L', 15),\n",
      " ('WALTERS GARETH W', 15),\n",
      " ('DUNCAN JOHN H', 15),\n",
      " ('LEMAISTRE CHARLES', 15),\n",
      " ('BADUM JAMES P', 15),\n",
      " ('GRAY RODNEY', 15),\n",
      " ('LOWRY CHARLES P', 16),\n",
      " ('CHAN RONNIE', 16),\n",
      " ('URQUHART JOHN A', 16),\n",
      " ('MENDELSOHN JOHN', 16),\n",
      " ('MEYER JEROME J', 16),\n",
      " ('GATHMANN WILLIAM D', 16),\n",
      " ('PEREIRA PAULO V. FERRAZ', 16),\n",
      " ('BLAKE JR. NORMAN P', 16),\n",
      " ('CHRISTODOULOU DIOMEDES', 16),\n",
      " ('WINOKUR JR. HERBERT S', 16),\n",
      " ('YEAP SOON', 16),\n",
      " ('FUGH JOHN L', 16),\n",
      " ('WODRASKA JOHN', 17),\n",
      " ('CLINE KENNETH W', 17),\n",
      " ('WAKEHAM JOHN', 17),\n",
      " ('GILLIS JOHN', 17),\n",
      " ('SCRIMSHAW MATTHEW', 17),\n",
      " ('SAVAGE FRANK', 17),\n",
      " ('WHALEY DAVID A', 18),\n",
      " ('WROBEL BRUCE', 18),\n",
      " ('THE TRAVEL AGENCY IN THE PARK', 18),\n",
      " ('GRAMM WENDY L', 18),\n",
      " ('LOCKHART EUGENE E', 20),\n",
      " ('METTS MARK', 25)]\n"
     ]
    }
   ],
   "source": [
    "import operator\n",
    "#count 'Nan' per key to see who is missing al ot of data\n",
    "#found 'THE TRAVEL AGENCY IN THE PARK with 18 NaNs\n",
    "count_dict = {}\n",
    "for name in enron_data.keys():\n",
    "    for value in enron_data[name].values():\n",
    "        if value == 'NaN':\n",
    "            count += 1\n",
    "    count_dict[name] = count\n",
    "    count = 0\n",
    "sorted_dict = sorted(count_dict.items(), key=operator.itemgetter(1))\n",
    "pprint.pprint(sorted_dict)"
   ]
  },
  {
   "cell_type": "markdown",
   "metadata": {},
   "source": [
    "`LOCKHART EUGENE E` has all 'NaN' values. Also, `THE TRAVEL AGENCY IN THE PARK` is not a person. Therefore I will remove these from the dataset prior to modeling."
   ]
  },
  {
   "cell_type": "markdown",
   "metadata": {},
   "source": [
    "These keys removed were identified to be removed from the dataset during data exploration."
   ]
  },
  {
   "cell_type": "code",
   "execution_count": 125,
   "metadata": {
    "collapsed": false
   },
   "outputs": [],
   "source": [
    "keys_remove = ['TOTAL', 'THE TRAVEL AGENCY IN THE PARK', 'LOCKHART EUGENE E']\n",
    "for key in keys_remove:\n",
    "    del enron_data[key]"
   ]
  },
  {
   "cell_type": "markdown",
   "metadata": {},
   "source": [
    "## Visualize Features\n",
    "\n",
    "All features were plotted to get a better idea of what may seperate a poi from a non-poi. Examples of the more interesting plots are provided below. For the financial features, `bonus`, `total_stock_value`, and `salary` as there seemed to be some seperation from non pois.  These may be useful features in the model."
   ]
  },
  {
   "cell_type": "code",
   "execution_count": 126,
   "metadata": {
    "collapsed": false
   },
   "outputs": [
    {
     "data": {
      "image/png": "[encoded data removed]",
      "text/plain": [
       "<matplotlib.figure.Figure at 0xb91b048>"
      ]
     },
     "metadata": {},
     "output_type": "display_data"
    },
    {
     "data": {
      "image/png": "[encoded data removed]",
      "text/plain": [
       "<matplotlib.figure.Figure at 0xbc45c18>"
      ]
     },
     "metadata": {},
     "output_type": "display_data"
    },
    {
     "data": {
      "image/png": "[encoded data removed]",
      "text/plain": [
       "<matplotlib.figure.Figure at 0xc249390>"
      ]
     },
     "metadata": {},
     "output_type": "display_data"
    },
    {
     "data": {
      "image/png": "[encoded data removed]",
      "text/plain": [
       "<matplotlib.figure.Figure at 0xcf1cf28>"
      ]
     },
     "metadata": {},
     "output_type": "display_data"
    },
    {
     "data": {
      "image/png": "[encoded data removed]",
      "text/plain": [
       "<matplotlib.figure.Figure at 0xb1b7f28>"
      ]
     },
     "metadata": {},
     "output_type": "display_data"
    }
   ],
   "source": [
    "def visualize(data_dict, feature_x, feature_y):\n",
    "    \"\"\"\n",
    "    Generates scatter plot and colors set to identify pois \n",
    "    \"\"\"\n",
    "    import matplotlib.pyplot as plt\n",
    "    data = featureFormat(data_dict, [feature_x, feature_y, 'poi'], remove_all_zeroes=False)\n",
    "\n",
    "    for datum in data:\n",
    "        x = datum[0]\n",
    "        y = datum[1]\n",
    "        poi = datum[2]\n",
    "        color = 'blue' if not poi else 'red'\n",
    "        plt.scatter(x, y, color=color)\n",
    "    plt.xlabel(feature_x)\n",
    "    plt.ylabel(feature_y)\n",
    "    plt.show()  \n",
    "    \n",
    "visualize(enron_data, 'total_stock_value', 'bonus')\n",
    "visualize(enron_data, 'total_stock_value', 'salary')\n",
    "visualize(enron_data, 'bonus', 'salary')\n",
    "visualize(enron_data, 'to_messages', 'from_this_person_to_poi')\n",
    "visualize(enron_data, 'to_messages', 'shared_receipt_with_poi')\n",
    "\n",
    "#shared_receipt_with_poi\n",
    "#from_poi_to_this_person"
   ]
  },
  {
   "cell_type": "markdown",
   "metadata": {},
   "source": [
    "For the email features, there wasn't seperation but when you compute the fraction of poi messages related to total messages, there is seperation. The code below calculates the fraction. An try/except aproach was needed to account for 'NaN' values."
   ]
  },
  {
   "cell_type": "code",
   "execution_count": 127,
   "metadata": {
    "collapsed": false
   },
   "outputs": [],
   "source": [
    "# create from_poi_email_ratio\n",
    "for name in enron_data.keys():\n",
    "    try:\n",
    "        from_poi_email_ratio = float(enron_data[name]['from_poi_to_this_person']) / enron_data[name]['from_messages']\n",
    "        enron_data[name]['from_poi_email_ratio'] = from_poi_email_ratio\n",
    "    except:\n",
    "        enron_data[name]['from_poi_email_ratio'] = 'NaN'\n"
   ]
  },
  {
   "cell_type": "code",
   "execution_count": 128,
   "metadata": {
    "collapsed": true
   },
   "outputs": [],
   "source": [
    "# create to_poi_email_ratio\n",
    "for name in enron_data.keys():\n",
    "   \n",
    "    try:\n",
    "        to_poi_email_ratio = float(enron_data[name]['from_this_person_to_poi']) / enron_data[name]['to_messages']\n",
    "        enron_data[name]['to_poi_email_ratio'] = to_poi_email_ratio\n",
    "    except:\n",
    "        enron_data[name]['to_poi_email_ratio'] = 'NaN'\n"
   ]
  },
  {
   "cell_type": "code",
   "execution_count": 129,
   "metadata": {
    "collapsed": false
   },
   "outputs": [
    {
     "data": {
      "image/png": "[encoded data removed]",
      "text/plain": [
       "<matplotlib.figure.Figure at 0xbdd72b0>"
      ]
     },
     "metadata": {},
     "output_type": "display_data"
    }
   ],
   "source": [
    "visualize(enron_data, 'from_poi_email_ratio', 'to_poi_email_ratio')"
   ]
  },
  {
   "cell_type": "markdown",
   "metadata": {},
   "source": [
    "It is obvious that the red points are seperated from the blue points. This aligns with the intuition that pois would be emailing between themself more. Therefore, creating a variable that takes this into account should be useful for a model."
   ]
  }
 ],
 "metadata": {
  "kernelspec": {
   "display_name": "Python 2",
   "language": "python",
   "name": "python2"
  },
  "language_info": {
   "codemirror_mode": {
    "name": "ipython",
    "version": 2
   },
   "file_extension": ".py",
   "mimetype": "text/x-python",
   "name": "python",
   "nbconvert_exporter": "python",
   "pygments_lexer": "ipython2",
   "version": "2.7.10"
  }
 },
 "nbformat": 4,
 "nbformat_minor": 0
}
